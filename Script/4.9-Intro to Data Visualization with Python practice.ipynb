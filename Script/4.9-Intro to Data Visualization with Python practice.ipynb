{
 "cells": [
  {
   "cell_type": "markdown",
   "id": "23040328",
   "metadata": {},
   "source": [
    "# Importing data and libraries"
   ]
  },
  {
   "cell_type": "code",
   "execution_count": 3,
   "id": "9962e40f",
   "metadata": {},
   "outputs": [],
   "source": [
    "# Import libraries\n",
    "\n",
    "import pandas as pd\n",
    "import numpy as np\n",
    "import os\n",
    "import matplotlib.pyplot as plt\n",
    "import seaborn as sns\n",
    "import scipy"
   ]
  },
  {
   "cell_type": "code",
   "execution_count": 4,
   "id": "286bf8bd",
   "metadata": {},
   "outputs": [],
   "source": [
    "PATH = '02 Data'"
   ]
  },
  {
   "cell_type": "markdown",
   "id": "2e3df3f4",
   "metadata": {},
   "source": [
    "# Import new merged ords_prods_merge dataframe"
   ]
  },
  {
   "cell_type": "code",
   "execution_count": 3,
   "id": "97e24860",
   "metadata": {},
   "outputs": [],
   "source": [
    "# Import ords_prods_merge dataframe as 'df_ords_prods_merge'\n",
    "\n",
    "df_ords_prods_merge = pd.read_pickle(os.path.join(PATH, 'Prepared Data', 'ords_prods_merge.pkl'))\n"
   ]
  },
  {
   "cell_type": "code",
   "execution_count": 18,
   "id": "23177040",
   "metadata": {},
   "outputs": [
    {
     "data": {
      "text/html": [
       "<div>\n",
       "<style scoped>\n",
       "    .dataframe tbody tr th:only-of-type {\n",
       "        vertical-align: middle;\n",
       "    }\n",
       "\n",
       "    .dataframe tbody tr th {\n",
       "        vertical-align: top;\n",
       "    }\n",
       "\n",
       "    .dataframe thead th {\n",
       "        text-align: right;\n",
       "    }\n",
       "</style>\n",
       "<table border=\"1\" class=\"dataframe\">\n",
       "  <thead>\n",
       "    <tr style=\"text-align: right;\">\n",
       "      <th></th>\n",
       "      <th>order_id</th>\n",
       "      <th>user_id</th>\n",
       "      <th>order_number</th>\n",
       "      <th>order_day_of_week</th>\n",
       "      <th>order_hour_of_day</th>\n",
       "      <th>days_since_prior_order</th>\n",
       "      <th>product_id</th>\n",
       "      <th>add_to_cart_order</th>\n",
       "      <th>reordered</th>\n",
       "      <th>_merge</th>\n",
       "      <th>...</th>\n",
       "      <th>price_category_loc</th>\n",
       "      <th>Busiest day</th>\n",
       "      <th>Busiest days and Slowest days</th>\n",
       "      <th>Busiest_period_of_day</th>\n",
       "      <th>max_order</th>\n",
       "      <th>Loyalty_flag_loc</th>\n",
       "      <th>user_average_price</th>\n",
       "      <th>spending_flag</th>\n",
       "      <th>order_median</th>\n",
       "      <th>order_frequency_flag</th>\n",
       "    </tr>\n",
       "  </thead>\n",
       "  <tbody>\n",
       "    <tr>\n",
       "      <th>0</th>\n",
       "      <td>2539329.0</td>\n",
       "      <td>1.0</td>\n",
       "      <td>1.0</td>\n",
       "      <td>2.0</td>\n",
       "      <td>8.0</td>\n",
       "      <td>11.11484</td>\n",
       "      <td>196.0</td>\n",
       "      <td>1.0</td>\n",
       "      <td>0.0</td>\n",
       "      <td>both</td>\n",
       "      <td>...</td>\n",
       "      <td>Mid_range product</td>\n",
       "      <td>Regularly busy</td>\n",
       "      <td>Regularly busy</td>\n",
       "      <td>Average orders</td>\n",
       "      <td>11.0</td>\n",
       "      <td>Regular customer</td>\n",
       "      <td>NaN</td>\n",
       "      <td>NaN</td>\n",
       "      <td>20.0</td>\n",
       "      <td>Regular customer</td>\n",
       "    </tr>\n",
       "    <tr>\n",
       "      <th>1</th>\n",
       "      <td>2398795.0</td>\n",
       "      <td>1.0</td>\n",
       "      <td>2.0</td>\n",
       "      <td>3.0</td>\n",
       "      <td>7.0</td>\n",
       "      <td>15.00000</td>\n",
       "      <td>196.0</td>\n",
       "      <td>1.0</td>\n",
       "      <td>1.0</td>\n",
       "      <td>both</td>\n",
       "      <td>...</td>\n",
       "      <td>Mid_range product</td>\n",
       "      <td>Regularly busy</td>\n",
       "      <td>Second slowest day</td>\n",
       "      <td>Average orders</td>\n",
       "      <td>11.0</td>\n",
       "      <td>Regular customer</td>\n",
       "      <td>6.367797</td>\n",
       "      <td>Low spender</td>\n",
       "      <td>20.0</td>\n",
       "      <td>Regular customer</td>\n",
       "    </tr>\n",
       "    <tr>\n",
       "      <th>2</th>\n",
       "      <td>473747.0</td>\n",
       "      <td>1.0</td>\n",
       "      <td>3.0</td>\n",
       "      <td>3.0</td>\n",
       "      <td>12.0</td>\n",
       "      <td>21.00000</td>\n",
       "      <td>196.0</td>\n",
       "      <td>1.0</td>\n",
       "      <td>1.0</td>\n",
       "      <td>both</td>\n",
       "      <td>...</td>\n",
       "      <td>Mid_range product</td>\n",
       "      <td>Regularly busy</td>\n",
       "      <td>Second slowest day</td>\n",
       "      <td>Average orders</td>\n",
       "      <td>11.0</td>\n",
       "      <td>Regular customer</td>\n",
       "      <td>7.515897</td>\n",
       "      <td>Low spender</td>\n",
       "      <td>20.0</td>\n",
       "      <td>Regular customer</td>\n",
       "    </tr>\n",
       "    <tr>\n",
       "      <th>3</th>\n",
       "      <td>2254736.0</td>\n",
       "      <td>1.0</td>\n",
       "      <td>4.0</td>\n",
       "      <td>4.0</td>\n",
       "      <td>7.0</td>\n",
       "      <td>29.00000</td>\n",
       "      <td>196.0</td>\n",
       "      <td>1.0</td>\n",
       "      <td>1.0</td>\n",
       "      <td>both</td>\n",
       "      <td>...</td>\n",
       "      <td>Mid_range product</td>\n",
       "      <td>Least busy</td>\n",
       "      <td>First slowest day</td>\n",
       "      <td>Average orders</td>\n",
       "      <td>11.0</td>\n",
       "      <td>Regular customer</td>\n",
       "      <td>8.197727</td>\n",
       "      <td>Low spender</td>\n",
       "      <td>20.0</td>\n",
       "      <td>Regular customer</td>\n",
       "    </tr>\n",
       "    <tr>\n",
       "      <th>4</th>\n",
       "      <td>431534.0</td>\n",
       "      <td>1.0</td>\n",
       "      <td>5.0</td>\n",
       "      <td>4.0</td>\n",
       "      <td>15.0</td>\n",
       "      <td>28.00000</td>\n",
       "      <td>196.0</td>\n",
       "      <td>1.0</td>\n",
       "      <td>1.0</td>\n",
       "      <td>both</td>\n",
       "      <td>...</td>\n",
       "      <td>Mid_range product</td>\n",
       "      <td>Least busy</td>\n",
       "      <td>First slowest day</td>\n",
       "      <td>Average orders</td>\n",
       "      <td>11.0</td>\n",
       "      <td>Regular customer</td>\n",
       "      <td>8.205556</td>\n",
       "      <td>Low spender</td>\n",
       "      <td>20.0</td>\n",
       "      <td>Regular customer</td>\n",
       "    </tr>\n",
       "  </tbody>\n",
       "</table>\n",
       "<p>5 rows × 24 columns</p>\n",
       "</div>"
      ],
      "text/plain": [
       "    order_id  user_id  order_number  order_day_of_week  order_hour_of_day  \\\n",
       "0  2539329.0      1.0           1.0                2.0                8.0   \n",
       "1  2398795.0      1.0           2.0                3.0                7.0   \n",
       "2   473747.0      1.0           3.0                3.0               12.0   \n",
       "3  2254736.0      1.0           4.0                4.0                7.0   \n",
       "4   431534.0      1.0           5.0                4.0               15.0   \n",
       "\n",
       "   days_since_prior_order  product_id  add_to_cart_order  reordered _merge  \\\n",
       "0                11.11484       196.0                1.0        0.0   both   \n",
       "1                15.00000       196.0                1.0        1.0   both   \n",
       "2                21.00000       196.0                1.0        1.0   both   \n",
       "3                29.00000       196.0                1.0        1.0   both   \n",
       "4                28.00000       196.0                1.0        1.0   both   \n",
       "\n",
       "   ... price_category_loc     Busiest day  Busiest days and Slowest days  \\\n",
       "0  ...  Mid_range product  Regularly busy                 Regularly busy   \n",
       "1  ...  Mid_range product  Regularly busy             Second slowest day   \n",
       "2  ...  Mid_range product  Regularly busy             Second slowest day   \n",
       "3  ...  Mid_range product      Least busy              First slowest day   \n",
       "4  ...  Mid_range product      Least busy              First slowest day   \n",
       "\n",
       "   Busiest_period_of_day max_order  Loyalty_flag_loc user_average_price  \\\n",
       "0         Average orders      11.0  Regular customer                NaN   \n",
       "1         Average orders      11.0  Regular customer           6.367797   \n",
       "2         Average orders      11.0  Regular customer           7.515897   \n",
       "3         Average orders      11.0  Regular customer           8.197727   \n",
       "4         Average orders      11.0  Regular customer           8.205556   \n",
       "\n",
       "  spending_flag  order_median order_frequency_flag  \n",
       "0           NaN          20.0     Regular customer  \n",
       "1   Low spender          20.0     Regular customer  \n",
       "2   Low spender          20.0     Regular customer  \n",
       "3   Low spender          20.0     Regular customer  \n",
       "4   Low spender          20.0     Regular customer  \n",
       "\n",
       "[5 rows x 24 columns]"
      ]
     },
     "execution_count": 18,
     "metadata": {},
     "output_type": "execute_result"
    }
   ],
   "source": [
    "df_ords_prods_merge.head()"
   ]
  },
  {
   "cell_type": "markdown",
   "id": "4271ab5e",
   "metadata": {},
   "source": [
    "# Create visualization"
   ]
  },
  {
   "cell_type": "code",
   "execution_count": 20,
   "id": "87394024",
   "metadata": {},
   "outputs": [
    {
     "data": {
      "text/plain": [
       "Index(['order_id', 'user_id', 'order_number', 'order_day_of_week',\n",
       "       'order_hour_of_day', 'days_since_prior_order', 'product_id',\n",
       "       'add_to_cart_order', 'reordered', '_merge', 'product_name', 'aisle_id',\n",
       "       'department_id', 'prices', 'price_category_loc', 'Busiest day',\n",
       "       'Busiest days and Slowest days', 'Busiest_period_of_day', 'max_order',\n",
       "       'Loyalty_flag_loc', 'user_average_price', 'spending_flag',\n",
       "       'order_median', 'order_frequency_flag'],\n",
       "      dtype='object')"
      ]
     },
     "execution_count": 20,
     "metadata": {},
     "output_type": "execute_result"
    }
   ],
   "source": [
    "df_ords_prods_merge.columns"
   ]
  },
  {
   "cell_type": "markdown",
   "id": "3a78605e",
   "metadata": {},
   "source": [
    "##  Creating Bar charts"
   ]
  },
  {
   "cell_type": "code",
   "execution_count": 5,
   "id": "08cd2936",
   "metadata": {},
   "outputs": [
    {
     "data": {
      "text/plain": [
       "<Axes: xlabel='order_day_of_week'>"
      ]
     },
     "execution_count": 5,
     "metadata": {},
     "output_type": "execute_result"
    },
    {
     "data": {
      "image/png": "[encoded data removed]",
      "text/plain": [
       "<Figure size 640x480 with 1 Axes>"
      ]
     },
     "metadata": {},
     "output_type": "display_data"
    }
   ],
   "source": [
    "# create bar chart for Categorical data ('order_day_of_week')\n",
    "\n",
    "df_ords_prods_merge['order_day_of_week'].value_counts().plot.bar()"
   ]
  },
  {
   "cell_type": "code",
   "execution_count": 6,
   "id": "5009a22c",
   "metadata": {},
   "outputs": [
    {
     "data": {
      "text/plain": [
       "<Axes: xlabel='order_day_of_week'>"
      ]
     },
     "execution_count": 6,
     "metadata": {},
     "output_type": "execute_result"
    },
    {
     "data": {
      "image/png": "[encoded data removed]",
      "text/plain": [
       "<Figure size 640x480 with 1 Axes>"
      ]
     },
     "metadata": {},
     "output_type": "display_data"
    }
   ],
   "source": [
    "# sorting the index(largest to smallest)-sort_index():\n",
    "\n",
    "df_ords_prods_merge['order_day_of_week'].value_counts().sort_index().plot.bar()\n"
   ]
  },
  {
   "cell_type": "markdown",
   "id": "edb54973",
   "metadata": {},
   "source": [
    "The sort_index() function will sort the bars in your chart according to their index order (rather than largest to smallest).This same trick can actually be used when printing frequencies, as well:\n",
    "\n",
    "\n"
   ]
  },
  {
   "cell_type": "code",
   "execution_count": 7,
   "id": "5dd081e9",
   "metadata": {},
   "outputs": [
    {
     "data": {
      "text/plain": [
       "order_day_of_week\n",
       "0.0    6253163\n",
       "1.0    5696950\n",
       "6.0    4530449\n",
       "2.0    4243329\n",
       "5.0    4237104\n",
       "3.0    3868914\n",
       "4.0    3812541\n",
       "Name: count, dtype: int64"
      ]
     },
     "execution_count": 7,
     "metadata": {},
     "output_type": "execute_result"
    }
   ],
   "source": [
    "# This same trick can actually be used when printing frequencies, as well:\n",
    "# without sorting\n",
    "\n",
    "df_ords_prods_merge['order_day_of_week'].value_counts()\n"
   ]
  },
  {
   "cell_type": "code",
   "execution_count": 8,
   "id": "3d69046c",
   "metadata": {},
   "outputs": [
    {
     "data": {
      "text/plain": [
       "order_day_of_week\n",
       "0.0    6253163\n",
       "1.0    5696950\n",
       "2.0    4243329\n",
       "3.0    3868914\n",
       "4.0    3812541\n",
       "5.0    4237104\n",
       "6.0    4530449\n",
       "Name: count, dtype: int64"
      ]
     },
     "execution_count": 8,
     "metadata": {},
     "output_type": "execute_result"
    }
   ],
   "source": [
    "# with sorting\n",
    "\n",
    "df_ords_prods_merge['order_day_of_week'].value_counts().sort_index()\n"
   ]
  },
  {
   "cell_type": "code",
   "execution_count": 10,
   "id": "83c98ac2",
   "metadata": {},
   "outputs": [
    {
     "data": {
      "text/plain": [
       "<Axes: xlabel='order_day_of_week'>"
      ]
     },
     "execution_count": 10,
     "metadata": {},
     "output_type": "execute_result"
    },
    {
     "data": {
      "image/png": "[encoded data removed]",
      "text/plain": [
       "<Figure size 640x480 with 1 Axes>"
      ]
     },
     "metadata": {},
     "output_type": "display_data"
    }
   ],
   "source": [
    "# adding a color argument in your plot.bar() function\n",
    "\n",
    "df_ords_prods_merge['order_day_of_week'].value_counts().sort_index().plot.bar(color = ['purple','red', 'blue','pink', 'green','yellow', 'orange'])\n"
   ]
  },
  {
   "cell_type": "markdown",
   "id": "ea9581b2",
   "metadata": {},
   "source": [
    "# Exporting Charts"
   ]
  },
  {
   "cell_type": "code",
   "execution_count": 11,
   "id": "a9709767",
   "metadata": {},
   "outputs": [
    {
     "data": {
      "image/png": "[encoded data removed]",
      "text/plain": [
       "<Figure size 640x480 with 1 Axes>"
      ]
     },
     "metadata": {},
     "output_type": "display_data"
    }
   ],
   "source": [
    "# save the chart \n",
    "\n",
    "bar = df_ords_prods_merge['order_day_of_week'].value_counts().plot.bar(color =['purple','red', 'blue','pink', 'green','yellow', 'orange'])"
   ]
  },
  {
   "cell_type": "markdown",
   "id": "287ad87e",
   "metadata": {},
   "source": [
    "Now, your bar chart has been saved within the bar object, and you’ll be able to access it any time you like by calling [bar.figure]"
   ]
  },
  {
   "cell_type": "code",
   "execution_count": 13,
   "id": "818e261c",
   "metadata": {},
   "outputs": [],
   "source": [
    "# to export bar chart outside of Jupyter in the form of an image file via the figure.savefig() function:\n",
    "\n",
    "bar.figure.savefig(os.path.join('04 Analysis','Visualization', 'bar_orders_dow.png'))\n"
   ]
  },
  {
   "cell_type": "markdown",
   "id": "d62322a0",
   "metadata": {},
   "source": [
    "# Creating Histograms and Scatterplots"
   ]
  },
  {
   "cell_type": "code",
   "execution_count": 14,
   "id": "296a7691",
   "metadata": {},
   "outputs": [
    {
     "data": {
      "text/plain": [
       "<Axes: ylabel='Frequency'>"
      ]
     },
     "execution_count": 14,
     "metadata": {},
     "output_type": "execute_result"
    },
    {
     "data": {
      "image/png": "[encoded data removed]",
      "text/plain": [
       "<Figure size 640x480 with 1 Axes>"
      ]
     },
     "metadata": {},
     "output_type": "display_data"
    }
   ],
   "source": [
    "# creating a histogram of the “prices” colum\n",
    "\n",
    "df_ords_prods_merge['prices'].plot.hist(bins = 25)"
   ]
  },
  {
   "cell_type": "code",
   "execution_count": 15,
   "id": "ff24da6a",
   "metadata": {},
   "outputs": [
    {
     "data": {
      "text/plain": [
       "count    3.243422e+07\n",
       "mean     1.198114e+01\n",
       "std      4.954310e+02\n",
       "min      1.000000e+00\n",
       "25%      4.200000e+00\n",
       "50%      7.400000e+00\n",
       "75%      1.130000e+01\n",
       "max      9.999900e+04\n",
       "Name: prices, dtype: float64"
      ]
     },
     "execution_count": 15,
     "metadata": {},
     "output_type": "execute_result"
    }
   ],
   "source": [
    "# to check the intrigrity of the histogram\n",
    "\n",
    "df_ords_prods_merge['prices'].describe()"
   ]
  },
  {
   "cell_type": "markdown",
   "id": "2ef8ac49",
   "metadata": {},
   "source": [
    "### scatterplot"
   ]
  },
  {
   "cell_type": "code",
   "execution_count": 16,
   "id": "863508fe",
   "metadata": {},
   "outputs": [
    {
     "data": {
      "text/plain": [
       "<Axes: xlabel='prices', ylabel='prices'>"
      ]
     },
     "execution_count": 16,
     "metadata": {},
     "output_type": "execute_result"
    },
    {
     "data": {
      "image/png": "[encoded data removed]",
      "text/plain": [
       "<Figure size 640x480 with 1 Axes>"
      ]
     },
     "metadata": {},
     "output_type": "display_data"
    }
   ],
   "source": [
    "# creating a scatterplot of 'price' column\n",
    "\n",
    "sns.scatterplot(x = 'prices', y = 'prices',data = df_ords_prods_merge)"
   ]
  },
  {
   "cell_type": "code",
   "execution_count": 17,
   "id": "c1cbb151",
   "metadata": {},
   "outputs": [
    {
     "data": {
      "text/html": [
       "<div>\n",
       "<style scoped>\n",
       "    .dataframe tbody tr th:only-of-type {\n",
       "        vertical-align: middle;\n",
       "    }\n",
       "\n",
       "    .dataframe tbody tr th {\n",
       "        vertical-align: top;\n",
       "    }\n",
       "\n",
       "    .dataframe thead th {\n",
       "        text-align: right;\n",
       "    }\n",
       "</style>\n",
       "<table border=\"1\" class=\"dataframe\">\n",
       "  <thead>\n",
       "    <tr style=\"text-align: right;\">\n",
       "      <th></th>\n",
       "      <th>order_id</th>\n",
       "      <th>user_id</th>\n",
       "      <th>order_number</th>\n",
       "      <th>order_day_of_week</th>\n",
       "      <th>order_hour_of_day</th>\n",
       "      <th>days_since_prior_order</th>\n",
       "      <th>product_id</th>\n",
       "      <th>add_to_cart_order</th>\n",
       "      <th>reordered</th>\n",
       "      <th>_merge</th>\n",
       "      <th>...</th>\n",
       "      <th>price_category_loc</th>\n",
       "      <th>Busiest day</th>\n",
       "      <th>Busiest days and Slowest days</th>\n",
       "      <th>Busiest_period_of_day</th>\n",
       "      <th>max_order</th>\n",
       "      <th>Loyalty_flag_loc</th>\n",
       "      <th>user_average_price</th>\n",
       "      <th>spending_flag</th>\n",
       "      <th>order_median</th>\n",
       "      <th>order_frequency_flag</th>\n",
       "    </tr>\n",
       "  </thead>\n",
       "  <tbody>\n",
       "    <tr>\n",
       "      <th>10236554</th>\n",
       "      <td>912404.0</td>\n",
       "      <td>17.0</td>\n",
       "      <td>12.0</td>\n",
       "      <td>2.0</td>\n",
       "      <td>14.0</td>\n",
       "      <td>5.0</td>\n",
       "      <td>21553.0</td>\n",
       "      <td>5.0</td>\n",
       "      <td>0.0</td>\n",
       "      <td>both</td>\n",
       "      <td>...</td>\n",
       "      <td>High_range product</td>\n",
       "      <td>Regularly busy</td>\n",
       "      <td>Regularly busy</td>\n",
       "      <td>Average orders</td>\n",
       "      <td>41.0</td>\n",
       "      <td>Loyal customer</td>\n",
       "      <td>NaN</td>\n",
       "      <td>NaN</td>\n",
       "      <td>5.00000</td>\n",
       "      <td>Frequent customer</td>\n",
       "    </tr>\n",
       "    <tr>\n",
       "      <th>10236555</th>\n",
       "      <td>603376.0</td>\n",
       "      <td>17.0</td>\n",
       "      <td>22.0</td>\n",
       "      <td>6.0</td>\n",
       "      <td>16.0</td>\n",
       "      <td>4.0</td>\n",
       "      <td>21553.0</td>\n",
       "      <td>3.0</td>\n",
       "      <td>1.0</td>\n",
       "      <td>both</td>\n",
       "      <td>...</td>\n",
       "      <td>High_range product</td>\n",
       "      <td>Regularly busy</td>\n",
       "      <td>Regularly busy</td>\n",
       "      <td>Average orders</td>\n",
       "      <td>41.0</td>\n",
       "      <td>Loyal customer</td>\n",
       "      <td>NaN</td>\n",
       "      <td>NaN</td>\n",
       "      <td>5.00000</td>\n",
       "      <td>Frequent customer</td>\n",
       "    </tr>\n",
       "    <tr>\n",
       "      <th>10236556</th>\n",
       "      <td>3264360.0</td>\n",
       "      <td>135.0</td>\n",
       "      <td>2.0</td>\n",
       "      <td>2.0</td>\n",
       "      <td>21.0</td>\n",
       "      <td>13.0</td>\n",
       "      <td>21553.0</td>\n",
       "      <td>6.0</td>\n",
       "      <td>0.0</td>\n",
       "      <td>both</td>\n",
       "      <td>...</td>\n",
       "      <td>High_range product</td>\n",
       "      <td>Regularly busy</td>\n",
       "      <td>Regularly busy</td>\n",
       "      <td>Average orders</td>\n",
       "      <td>5.0</td>\n",
       "      <td>New customer</td>\n",
       "      <td>NaN</td>\n",
       "      <td>NaN</td>\n",
       "      <td>12.00000</td>\n",
       "      <td>Regular customer</td>\n",
       "    </tr>\n",
       "    <tr>\n",
       "      <th>10236557</th>\n",
       "      <td>892534.0</td>\n",
       "      <td>135.0</td>\n",
       "      <td>3.0</td>\n",
       "      <td>0.0</td>\n",
       "      <td>8.0</td>\n",
       "      <td>12.0</td>\n",
       "      <td>21553.0</td>\n",
       "      <td>3.0</td>\n",
       "      <td>1.0</td>\n",
       "      <td>both</td>\n",
       "      <td>...</td>\n",
       "      <td>High_range product</td>\n",
       "      <td>Busiest day</td>\n",
       "      <td>First busiest day</td>\n",
       "      <td>Average orders</td>\n",
       "      <td>5.0</td>\n",
       "      <td>New customer</td>\n",
       "      <td>NaN</td>\n",
       "      <td>NaN</td>\n",
       "      <td>12.00000</td>\n",
       "      <td>Regular customer</td>\n",
       "    </tr>\n",
       "    <tr>\n",
       "      <th>10236558</th>\n",
       "      <td>229704.0</td>\n",
       "      <td>342.0</td>\n",
       "      <td>8.0</td>\n",
       "      <td>1.0</td>\n",
       "      <td>19.0</td>\n",
       "      <td>30.0</td>\n",
       "      <td>21553.0</td>\n",
       "      <td>9.0</td>\n",
       "      <td>0.0</td>\n",
       "      <td>both</td>\n",
       "      <td>...</td>\n",
       "      <td>High_range product</td>\n",
       "      <td>Regularly busy</td>\n",
       "      <td>Second busiest day</td>\n",
       "      <td>Average orders</td>\n",
       "      <td>17.0</td>\n",
       "      <td>Regular customer</td>\n",
       "      <td>NaN</td>\n",
       "      <td>NaN</td>\n",
       "      <td>20.00000</td>\n",
       "      <td>Regular customer</td>\n",
       "    </tr>\n",
       "    <tr>\n",
       "      <th>...</th>\n",
       "      <td>...</td>\n",
       "      <td>...</td>\n",
       "      <td>...</td>\n",
       "      <td>...</td>\n",
       "      <td>...</td>\n",
       "      <td>...</td>\n",
       "      <td>...</td>\n",
       "      <td>...</td>\n",
       "      <td>...</td>\n",
       "      <td>...</td>\n",
       "      <td>...</td>\n",
       "      <td>...</td>\n",
       "      <td>...</td>\n",
       "      <td>...</td>\n",
       "      <td>...</td>\n",
       "      <td>...</td>\n",
       "      <td>...</td>\n",
       "      <td>...</td>\n",
       "      <td>...</td>\n",
       "      <td>...</td>\n",
       "      <td>...</td>\n",
       "    </tr>\n",
       "    <tr>\n",
       "      <th>29401455</th>\n",
       "      <td>2249946.0</td>\n",
       "      <td>204099.0</td>\n",
       "      <td>29.0</td>\n",
       "      <td>0.0</td>\n",
       "      <td>8.0</td>\n",
       "      <td>4.0</td>\n",
       "      <td>33664.0</td>\n",
       "      <td>1.0</td>\n",
       "      <td>0.0</td>\n",
       "      <td>both</td>\n",
       "      <td>...</td>\n",
       "      <td>High_range product</td>\n",
       "      <td>Busiest day</td>\n",
       "      <td>First busiest day</td>\n",
       "      <td>Average orders</td>\n",
       "      <td>40.0</td>\n",
       "      <td>Regular customer</td>\n",
       "      <td>NaN</td>\n",
       "      <td>NaN</td>\n",
       "      <td>4.00000</td>\n",
       "      <td>Frequent customer</td>\n",
       "    </tr>\n",
       "    <tr>\n",
       "      <th>29401456</th>\n",
       "      <td>2363282.0</td>\n",
       "      <td>204099.0</td>\n",
       "      <td>31.0</td>\n",
       "      <td>0.0</td>\n",
       "      <td>9.0</td>\n",
       "      <td>2.0</td>\n",
       "      <td>33664.0</td>\n",
       "      <td>1.0</td>\n",
       "      <td>1.0</td>\n",
       "      <td>both</td>\n",
       "      <td>...</td>\n",
       "      <td>High_range product</td>\n",
       "      <td>Busiest day</td>\n",
       "      <td>First busiest day</td>\n",
       "      <td>Average orders</td>\n",
       "      <td>40.0</td>\n",
       "      <td>Regular customer</td>\n",
       "      <td>NaN</td>\n",
       "      <td>NaN</td>\n",
       "      <td>4.00000</td>\n",
       "      <td>Frequent customer</td>\n",
       "    </tr>\n",
       "    <tr>\n",
       "      <th>29401457</th>\n",
       "      <td>3181945.0</td>\n",
       "      <td>204395.0</td>\n",
       "      <td>13.0</td>\n",
       "      <td>3.0</td>\n",
       "      <td>15.0</td>\n",
       "      <td>8.0</td>\n",
       "      <td>33664.0</td>\n",
       "      <td>25.0</td>\n",
       "      <td>0.0</td>\n",
       "      <td>both</td>\n",
       "      <td>...</td>\n",
       "      <td>High_range product</td>\n",
       "      <td>Regularly busy</td>\n",
       "      <td>Second slowest day</td>\n",
       "      <td>Average orders</td>\n",
       "      <td>16.0</td>\n",
       "      <td>Regular customer</td>\n",
       "      <td>NaN</td>\n",
       "      <td>NaN</td>\n",
       "      <td>5.00000</td>\n",
       "      <td>Frequent customer</td>\n",
       "    </tr>\n",
       "    <tr>\n",
       "      <th>29401458</th>\n",
       "      <td>2486215.0</td>\n",
       "      <td>205227.0</td>\n",
       "      <td>7.0</td>\n",
       "      <td>3.0</td>\n",
       "      <td>20.0</td>\n",
       "      <td>4.0</td>\n",
       "      <td>33664.0</td>\n",
       "      <td>8.0</td>\n",
       "      <td>0.0</td>\n",
       "      <td>both</td>\n",
       "      <td>...</td>\n",
       "      <td>High_range product</td>\n",
       "      <td>Regularly busy</td>\n",
       "      <td>Second slowest day</td>\n",
       "      <td>Average orders</td>\n",
       "      <td>13.0</td>\n",
       "      <td>Regular customer</td>\n",
       "      <td>NaN</td>\n",
       "      <td>NaN</td>\n",
       "      <td>11.11484</td>\n",
       "      <td>Regular customer</td>\n",
       "    </tr>\n",
       "    <tr>\n",
       "      <th>29401459</th>\n",
       "      <td>2232716.0</td>\n",
       "      <td>205227.0</td>\n",
       "      <td>10.0</td>\n",
       "      <td>0.0</td>\n",
       "      <td>11.0</td>\n",
       "      <td>4.0</td>\n",
       "      <td>33664.0</td>\n",
       "      <td>23.0</td>\n",
       "      <td>1.0</td>\n",
       "      <td>both</td>\n",
       "      <td>...</td>\n",
       "      <td>High_range product</td>\n",
       "      <td>Busiest day</td>\n",
       "      <td>First busiest day</td>\n",
       "      <td>Average orders</td>\n",
       "      <td>13.0</td>\n",
       "      <td>Regular customer</td>\n",
       "      <td>NaN</td>\n",
       "      <td>NaN</td>\n",
       "      <td>11.11484</td>\n",
       "      <td>Regular customer</td>\n",
       "    </tr>\n",
       "  </tbody>\n",
       "</table>\n",
       "<p>5127 rows × 24 columns</p>\n",
       "</div>"
      ],
      "text/plain": [
       "           order_id   user_id  order_number  order_day_of_week  \\\n",
       "10236554   912404.0      17.0          12.0                2.0   \n",
       "10236555   603376.0      17.0          22.0                6.0   \n",
       "10236556  3264360.0     135.0           2.0                2.0   \n",
       "10236557   892534.0     135.0           3.0                0.0   \n",
       "10236558   229704.0     342.0           8.0                1.0   \n",
       "...             ...       ...           ...                ...   \n",
       "29401455  2249946.0  204099.0          29.0                0.0   \n",
       "29401456  2363282.0  204099.0          31.0                0.0   \n",
       "29401457  3181945.0  204395.0          13.0                3.0   \n",
       "29401458  2486215.0  205227.0           7.0                3.0   \n",
       "29401459  2232716.0  205227.0          10.0                0.0   \n",
       "\n",
       "          order_hour_of_day  days_since_prior_order  product_id  \\\n",
       "10236554               14.0                     5.0     21553.0   \n",
       "10236555               16.0                     4.0     21553.0   \n",
       "10236556               21.0                    13.0     21553.0   \n",
       "10236557                8.0                    12.0     21553.0   \n",
       "10236558               19.0                    30.0     21553.0   \n",
       "...                     ...                     ...         ...   \n",
       "29401455                8.0                     4.0     33664.0   \n",
       "29401456                9.0                     2.0     33664.0   \n",
       "29401457               15.0                     8.0     33664.0   \n",
       "29401458               20.0                     4.0     33664.0   \n",
       "29401459               11.0                     4.0     33664.0   \n",
       "\n",
       "          add_to_cart_order  reordered _merge  ...  price_category_loc  \\\n",
       "10236554                5.0        0.0   both  ...  High_range product   \n",
       "10236555                3.0        1.0   both  ...  High_range product   \n",
       "10236556                6.0        0.0   both  ...  High_range product   \n",
       "10236557                3.0        1.0   both  ...  High_range product   \n",
       "10236558                9.0        0.0   both  ...  High_range product   \n",
       "...                     ...        ...    ...  ...                 ...   \n",
       "29401455                1.0        0.0   both  ...  High_range product   \n",
       "29401456                1.0        1.0   both  ...  High_range product   \n",
       "29401457               25.0        0.0   both  ...  High_range product   \n",
       "29401458                8.0        0.0   both  ...  High_range product   \n",
       "29401459               23.0        1.0   both  ...  High_range product   \n",
       "\n",
       "             Busiest day  Busiest days and Slowest days  \\\n",
       "10236554  Regularly busy                 Regularly busy   \n",
       "10236555  Regularly busy                 Regularly busy   \n",
       "10236556  Regularly busy                 Regularly busy   \n",
       "10236557     Busiest day              First busiest day   \n",
       "10236558  Regularly busy             Second busiest day   \n",
       "...                  ...                            ...   \n",
       "29401455     Busiest day              First busiest day   \n",
       "29401456     Busiest day              First busiest day   \n",
       "29401457  Regularly busy             Second slowest day   \n",
       "29401458  Regularly busy             Second slowest day   \n",
       "29401459     Busiest day              First busiest day   \n",
       "\n",
       "          Busiest_period_of_day max_order  Loyalty_flag_loc  \\\n",
       "10236554         Average orders      41.0    Loyal customer   \n",
       "10236555         Average orders      41.0    Loyal customer   \n",
       "10236556         Average orders       5.0      New customer   \n",
       "10236557         Average orders       5.0      New customer   \n",
       "10236558         Average orders      17.0  Regular customer   \n",
       "...                         ...       ...               ...   \n",
       "29401455         Average orders      40.0  Regular customer   \n",
       "29401456         Average orders      40.0  Regular customer   \n",
       "29401457         Average orders      16.0  Regular customer   \n",
       "29401458         Average orders      13.0  Regular customer   \n",
       "29401459         Average orders      13.0  Regular customer   \n",
       "\n",
       "         user_average_price spending_flag  order_median order_frequency_flag  \n",
       "10236554                NaN           NaN       5.00000    Frequent customer  \n",
       "10236555                NaN           NaN       5.00000    Frequent customer  \n",
       "10236556                NaN           NaN      12.00000     Regular customer  \n",
       "10236557                NaN           NaN      12.00000     Regular customer  \n",
       "10236558                NaN           NaN      20.00000     Regular customer  \n",
       "...                     ...           ...           ...                  ...  \n",
       "29401455                NaN           NaN       4.00000    Frequent customer  \n",
       "29401456                NaN           NaN       4.00000    Frequent customer  \n",
       "29401457                NaN           NaN       5.00000    Frequent customer  \n",
       "29401458                NaN           NaN      11.11484     Regular customer  \n",
       "29401459                NaN           NaN      11.11484     Regular customer  \n",
       "\n",
       "[5127 rows x 24 columns]"
      ]
     },
     "execution_count": 17,
     "metadata": {},
     "output_type": "execute_result"
    }
   ],
   "source": [
    "# to check the outlier- if more than 100\n",
    "\n",
    "df_ords_prods_merge.loc[df_ords_prods_merge['prices']> 100]"
   ]
  },
  {
   "cell_type": "code",
   "execution_count": 21,
   "id": "6aceba7e",
   "metadata": {},
   "outputs": [],
   "source": [
    "# turn the outliers to nas\n",
    "\n",
    "df_ords_prods_merge.loc[df_ords_prods_merge['prices'] >100, 'prices'] = np.nan"
   ]
  },
  {
   "cell_type": "code",
   "execution_count": 23,
   "id": "c9b7b57f",
   "metadata": {},
   "outputs": [
    {
     "data": {
      "text/plain": [
       "25.0"
      ]
     },
     "execution_count": 23,
     "metadata": {},
     "output_type": "execute_result"
    }
   ],
   "source": [
    "# to check the outliers whether it is replace or not \n",
    "\n",
    "df_ords_prods_merge['prices'].max()\n",
    "\n"
   ]
  },
  {
   "cell_type": "code",
   "execution_count": 24,
   "id": "4efebde3",
   "metadata": {},
   "outputs": [
    {
     "data": {
      "text/plain": [
       "<Axes: ylabel='Frequency'>"
      ]
     },
     "execution_count": 24,
     "metadata": {},
     "output_type": "execute_result"
    },
    {
     "data": {
      "image/png": "[encoded data removed]",
      "text/plain": [
       "<Figure size 640x480 with 1 Axes>"
      ]
     },
     "metadata": {},
     "output_type": "display_data"
    }
   ],
   "source": [
    "# after done the ad-cleaning in dataframe , check with histogram again\n",
    "\n",
    "df_ords_prods_merge['prices'].plot.hist(bins = 25)\n"
   ]
  },
  {
   "cell_type": "code",
   "execution_count": 26,
   "id": "6b7e4472",
   "metadata": {},
   "outputs": [
    {
     "data": {
      "image/png": "[encoded data removed]",
      "text/plain": [
       "<Figure size 640x480 with 1 Axes>"
      ]
     },
     "metadata": {},
     "output_type": "display_data"
    }
   ],
   "source": [
    "# To increase the level of granularity in the histogram, simply increase the number of bins to, say, 70\n",
    "\n",
    "hist_2 = df_ords_prods_merge['prices'].plot.hist(bins = 70)"
   ]
  },
  {
   "cell_type": "code",
   "execution_count": 27,
   "id": "4d659e9d",
   "metadata": {},
   "outputs": [],
   "source": [
    "# export your histogram\n",
    "\n",
    "hist_2.figure.savefig(os.path.join('04 Analysis','Visualization', 'hist_2_orders_dow.png'))"
   ]
  },
  {
   "cell_type": "markdown",
   "id": "565164af",
   "metadata": {},
   "source": [
    "# line chart"
   ]
  },
  {
   "cell_type": "code",
   "execution_count": 5,
   "id": "03c87eeb",
   "metadata": {},
   "outputs": [
    {
     "ename": "NameError",
     "evalue": "name 'df_ords_prods_merge' is not defined",
     "output_type": "error",
     "traceback": [
      "\u001b[0;31m---------------------------------------------------------------------------\u001b[0m",
      "\u001b[0;31mNameError\u001b[0m                                 Traceback (most recent call last)",
      "Cell \u001b[0;32mIn[5], line 3\u001b[0m\n\u001b[1;32m      1\u001b[0m \u001b[38;5;66;03m# create a subset of 70/30\u001b[39;00m\n\u001b[1;32m      2\u001b[0m np\u001b[38;5;241m.\u001b[39mrandom\u001b[38;5;241m.\u001b[39mseed(\u001b[38;5;241m4\u001b[39m)\n\u001b[0;32m----> 3\u001b[0m dev \u001b[38;5;241m=\u001b[39m np\u001b[38;5;241m.\u001b[39mrandom\u001b[38;5;241m.\u001b[39mrand(\u001b[38;5;28mlen\u001b[39m(df_ords_prods_merge)) \u001b[38;5;241m<\u001b[39m\u001b[38;5;241m=\u001b[39m \u001b[38;5;241m0.7\u001b[39m\n",
      "\u001b[0;31mNameError\u001b[0m: name 'df_ords_prods_merge' is not defined"
     ]
    }
   ],
   "source": [
    "# create a subset of 70/30\n",
    "np.random.seed(4)\n",
    "dev = np.random.rand(len(df_ords_prods_merge)) <= 0.7"
   ]
  },
  {
   "cell_type": "code",
   "execution_count": null,
   "id": "19fa12ee",
   "metadata": {},
   "outputs": [],
   "source": []
  },
  {
   "cell_type": "code",
   "execution_count": null,
   "id": "abfc6938",
   "metadata": {},
   "outputs": [],
   "source": []
  },
  {
   "cell_type": "code",
   "execution_count": null,
   "id": "dbed07fc",
   "metadata": {},
   "outputs": [],
   "source": []
  }
 ],
 "metadata": {
  "kernelspec": {
   "display_name": "Python 3 (ipykernel)",
   "language": "python",
   "name": "python3"
  },
  "language_info": {
   "codemirror_mode": {
    "name": "ipython",
    "version": 3
   },
   "file_extension": ".py",
   "mimetype": "text/x-python",
   "name": "python",
   "nbconvert_exporter": "python",
   "pygments_lexer": "ipython3",
   "version": "3.11.5"
  }
 },
 "nbformat": 4,
 "nbformat_minor": 5
}
