{
 "cells": [
  {
   "cell_type": "markdown",
   "id": "2775460f",
   "metadata": {},
   "source": [
    "# Importing libraries"
   ]
  },
  {
   "cell_type": "code",
   "execution_count": 6,
   "id": "ada79c73",
   "metadata": {},
   "outputs": [],
   "source": [
    "# Import libraries\n",
    "import pandas as pd\n",
    "import numpy as np\n",
    "import os"
   ]
  },
  {
   "cell_type": "markdown",
   "id": "6c060457",
   "metadata": {},
   "source": [
    "# Data type"
   ]
  },
  {
   "cell_type": "code",
   "execution_count": 5,
   "id": "cebf81ae",
   "metadata": {},
   "outputs": [],
   "source": [
    "x = 45"
   ]
  },
  {
   "cell_type": "code",
   "execution_count": 7,
   "id": "3f37f01d",
   "metadata": {},
   "outputs": [],
   "source": [
    "y = 55"
   ]
  },
  {
   "cell_type": "code",
   "execution_count": 14,
   "id": "94083272",
   "metadata": {},
   "outputs": [
    {
     "data": {
      "text/plain": [
       "int"
      ]
     },
     "execution_count": 14,
     "metadata": {},
     "output_type": "execute_result"
    }
   ],
   "source": [
    "type (x)"
   ]
  },
  {
   "cell_type": "code",
   "execution_count": 8,
   "id": "e98ba775",
   "metadata": {},
   "outputs": [
    {
     "data": {
      "text/plain": [
       "100"
      ]
     },
     "execution_count": 8,
     "metadata": {},
     "output_type": "execute_result"
    }
   ],
   "source": [
    "x + y"
   ]
  },
  {
   "cell_type": "code",
   "execution_count": 9,
   "id": "aa53c1d4",
   "metadata": {},
   "outputs": [],
   "source": [
    "z = 155"
   ]
  },
  {
   "cell_type": "code",
   "execution_count": 10,
   "id": "e9f97de9",
   "metadata": {},
   "outputs": [
    {
     "data": {
      "text/plain": [
       "100"
      ]
     },
     "execution_count": 10,
     "metadata": {},
     "output_type": "execute_result"
    }
   ],
   "source": [
    "z - y "
   ]
  },
  {
   "cell_type": "code",
   "execution_count": 11,
   "id": "b9ea0f91",
   "metadata": {},
   "outputs": [],
   "source": [
    "a = 10"
   ]
  },
  {
   "cell_type": "code",
   "execution_count": 12,
   "id": "2da84669",
   "metadata": {},
   "outputs": [
    {
     "data": {
      "text/plain": [
       "100"
      ]
     },
     "execution_count": 12,
     "metadata": {},
     "output_type": "execute_result"
    }
   ],
   "source": [
    "z - x - a"
   ]
  },
  {
   "cell_type": "code",
   "execution_count": 15,
   "id": "fe126702",
   "metadata": {},
   "outputs": [],
   "source": [
    "c = 9.999"
   ]
  },
  {
   "cell_type": "code",
   "execution_count": 16,
   "id": "8ae7c4c0",
   "metadata": {},
   "outputs": [],
   "source": [
    "d = 3.333"
   ]
  },
  {
   "cell_type": "code",
   "execution_count": 17,
   "id": "9c272301",
   "metadata": {},
   "outputs": [
    {
     "data": {
      "text/plain": [
       "float"
      ]
     },
     "execution_count": 17,
     "metadata": {},
     "output_type": "execute_result"
    }
   ],
   "source": [
    "type (c)"
   ]
  },
  {
   "cell_type": "code",
   "execution_count": 18,
   "id": "72f82376",
   "metadata": {},
   "outputs": [
    {
     "data": {
      "text/plain": [
       "3.0"
      ]
     },
     "execution_count": 18,
     "metadata": {},
     "output_type": "execute_result"
    }
   ],
   "source": [
    "c / d"
   ]
  },
  {
   "cell_type": "code",
   "execution_count": 37,
   "id": "66c15223",
   "metadata": {},
   "outputs": [],
   "source": [
    "p = 'All,'"
   ]
  },
  {
   "cell_type": "code",
   "execution_count": 38,
   "id": "261c897f",
   "metadata": {},
   "outputs": [],
   "source": [
    "q = 'is,'"
   ]
  },
  {
   "cell_type": "code",
   "execution_count": 39,
   "id": "3407ab80",
   "metadata": {},
   "outputs": [],
   "source": [
    "r ='well'"
   ]
  },
  {
   "cell_type": "code",
   "execution_count": 40,
   "id": "3d85b93b",
   "metadata": {},
   "outputs": [
    {
     "data": {
      "text/plain": [
       "'All,is,well'"
      ]
     },
     "execution_count": 40,
     "metadata": {},
     "output_type": "execute_result"
    }
   ],
   "source": [
    "p + q + r"
   ]
  },
  {
   "cell_type": "code",
   "execution_count": 26,
   "id": "fa92fe38",
   "metadata": {},
   "outputs": [],
   "source": [
    "s = 'Life,'"
   ]
  },
  {
   "cell_type": "code",
   "execution_count": 27,
   "id": "0f604429",
   "metadata": {},
   "outputs": [],
   "source": [
    "t = 'is,'"
   ]
  },
  {
   "cell_type": "code",
   "execution_count": 29,
   "id": "3802e499",
   "metadata": {},
   "outputs": [],
   "source": [
    "u = 'beautiful'\n"
   ]
  },
  {
   "cell_type": "code",
   "execution_count": 30,
   "id": "5a1692b5",
   "metadata": {},
   "outputs": [
    {
     "data": {
      "text/plain": [
       "'Life,is,beautiful'"
      ]
     },
     "execution_count": 30,
     "metadata": {},
     "output_type": "execute_result"
    }
   ],
   "source": [
    "s + t + u"
   ]
  },
  {
   "cell_type": "code",
   "execution_count": 41,
   "id": "f8c0f671",
   "metadata": {},
   "outputs": [
    {
     "data": {
      "text/plain": [
       "'Life,is,beautifulLife,is,beautiful'"
      ]
     },
     "execution_count": 41,
     "metadata": {},
     "output_type": "execute_result"
    }
   ],
   "source": [
    "(s+t+u)*2"
   ]
  },
  {
   "cell_type": "code",
   "execution_count": null,
   "id": "6236f70f",
   "metadata": {},
   "outputs": [],
   "source": []
  }
 ],
 "metadata": {
  "kernelspec": {
   "display_name": "Python 3 (ipykernel)",
   "language": "python",
   "name": "python3"
  },
  "language_info": {
   "codemirror_mode": {
    "name": "ipython",
    "version": 3
   },
   "file_extension": ".py",
   "mimetype": "text/x-python",
   "name": "python",
   "nbconvert_exporter": "python",
   "pygments_lexer": "ipython3",
   "version": "3.11.5"
  }
 },
 "nbformat": 4,
 "nbformat_minor": 5
}
