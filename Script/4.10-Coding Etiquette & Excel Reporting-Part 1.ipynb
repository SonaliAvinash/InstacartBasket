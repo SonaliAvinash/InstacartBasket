{
 "cells": [
  {
   "cell_type": "markdown",
   "id": "4f08238f",
   "metadata": {},
   "source": [
    "# Import the analysis and visualization libraries"
   ]
  },
  {
   "cell_type": "code",
   "execution_count": 1,
   "id": "8517eb33",
   "metadata": {},
   "outputs": [],
   "source": [
    "# Import the libraries for analysis and visualization\n",
    "\n",
    "import pandas as pd\n",
    "import numpy as np\n",
    "import os\n",
    "import matplotlib.pyplot as plt\n",
    "import seaborn as sns\n",
    "import scipy\n"
   ]
  },
  {
   "cell_type": "code",
   "execution_count": 2,
   "id": "47b0b8c6",
   "metadata": {},
   "outputs": [],
   "source": [
    "pd.set_option('display.max_columns', 500)"
   ]
  },
  {
   "cell_type": "code",
   "execution_count": 3,
   "id": "bd170a04",
   "metadata": {},
   "outputs": [],
   "source": [
    "PATH = '02 Data'"
   ]
  },
  {
   "cell_type": "markdown",
   "id": "23c8746d",
   "metadata": {},
   "source": [
    "# Q.n.1. Import the dataframe"
   ]
  },
  {
   "cell_type": "code",
   "execution_count": 4,
   "id": "2136fc4b",
   "metadata": {},
   "outputs": [],
   "source": [
    "# Import the merged dataframe \n",
    "\n",
    "Instacart_merged = pd.read_pickle(os.path.join(PATH, 'Prepared Data', 'df_instacart.pkl'))\n"
   ]
  },
  {
   "cell_type": "code",
   "execution_count": 5,
   "id": "3852ff45",
   "metadata": {},
   "outputs": [
    {
     "data": {
      "text/html": [
       "<div>\n",
       "<style scoped>\n",
       "    .dataframe tbody tr th:only-of-type {\n",
       "        vertical-align: middle;\n",
       "    }\n",
       "\n",
       "    .dataframe tbody tr th {\n",
       "        vertical-align: top;\n",
       "    }\n",
       "\n",
       "    .dataframe thead th {\n",
       "        text-align: right;\n",
       "    }\n",
       "</style>\n",
       "<table border=\"1\" class=\"dataframe\">\n",
       "  <thead>\n",
       "    <tr style=\"text-align: right;\">\n",
       "      <th></th>\n",
       "      <th>user_id</th>\n",
       "      <th>First Name</th>\n",
       "      <th>Last Name</th>\n",
       "      <th>Gender</th>\n",
       "      <th>STATE</th>\n",
       "      <th>Age(yrs)</th>\n",
       "      <th>Date_of_join</th>\n",
       "      <th>No_of_dependants</th>\n",
       "      <th>Family_status</th>\n",
       "      <th>Income($)</th>\n",
       "      <th>order_id</th>\n",
       "      <th>order_number</th>\n",
       "      <th>order_day_of_week</th>\n",
       "      <th>order_hour_of_day</th>\n",
       "      <th>days_since_prior_order</th>\n",
       "      <th>product_id</th>\n",
       "      <th>add_to_cart_order</th>\n",
       "      <th>reordered</th>\n",
       "      <th>_merge</th>\n",
       "      <th>product_name</th>\n",
       "      <th>aisle_id</th>\n",
       "      <th>department_id</th>\n",
       "      <th>prices</th>\n",
       "      <th>price_category_loc</th>\n",
       "      <th>Busiest day</th>\n",
       "      <th>Busiest days and Slowest days</th>\n",
       "      <th>Busiest_period_of_day</th>\n",
       "      <th>max_order</th>\n",
       "      <th>Loyalty_flag_loc</th>\n",
       "      <th>user_average_price</th>\n",
       "      <th>spending_flag</th>\n",
       "      <th>order_median</th>\n",
       "      <th>order_frequency_flag</th>\n",
       "    </tr>\n",
       "  </thead>\n",
       "  <tbody>\n",
       "    <tr>\n",
       "      <th>0</th>\n",
       "      <td>26711.0</td>\n",
       "      <td>Deborah</td>\n",
       "      <td>Esquivel</td>\n",
       "      <td>Female</td>\n",
       "      <td>Missouri</td>\n",
       "      <td>48</td>\n",
       "      <td>1/1/2017</td>\n",
       "      <td>3</td>\n",
       "      <td>married</td>\n",
       "      <td>165665</td>\n",
       "      <td>2543867.0</td>\n",
       "      <td>5.0</td>\n",
       "      <td>1.0</td>\n",
       "      <td>9.0</td>\n",
       "      <td>30.0</td>\n",
       "      <td>196.0</td>\n",
       "      <td>2.0</td>\n",
       "      <td>0.0</td>\n",
       "      <td>both</td>\n",
       "      <td>Soda</td>\n",
       "      <td>77.0</td>\n",
       "      <td>7.0</td>\n",
       "      <td>9.0</td>\n",
       "      <td>Mid_range product</td>\n",
       "      <td>Regularly busy</td>\n",
       "      <td>Second busiest day</td>\n",
       "      <td>Average orders</td>\n",
       "      <td>9.0</td>\n",
       "      <td>New customer</td>\n",
       "      <td>7.483644</td>\n",
       "      <td>Low spender</td>\n",
       "      <td>19.0</td>\n",
       "      <td>Regular customer</td>\n",
       "    </tr>\n",
       "    <tr>\n",
       "      <th>1</th>\n",
       "      <td>26711.0</td>\n",
       "      <td>Deborah</td>\n",
       "      <td>Esquivel</td>\n",
       "      <td>Female</td>\n",
       "      <td>Missouri</td>\n",
       "      <td>48</td>\n",
       "      <td>1/1/2017</td>\n",
       "      <td>3</td>\n",
       "      <td>married</td>\n",
       "      <td>165665</td>\n",
       "      <td>1285508.0</td>\n",
       "      <td>7.0</td>\n",
       "      <td>5.0</td>\n",
       "      <td>15.0</td>\n",
       "      <td>11.0</td>\n",
       "      <td>196.0</td>\n",
       "      <td>1.0</td>\n",
       "      <td>1.0</td>\n",
       "      <td>both</td>\n",
       "      <td>Soda</td>\n",
       "      <td>77.0</td>\n",
       "      <td>7.0</td>\n",
       "      <td>9.0</td>\n",
       "      <td>Mid_range product</td>\n",
       "      <td>Regularly busy</td>\n",
       "      <td>Regularly busy</td>\n",
       "      <td>Average orders</td>\n",
       "      <td>9.0</td>\n",
       "      <td>New customer</td>\n",
       "      <td>6.085714</td>\n",
       "      <td>Low spender</td>\n",
       "      <td>19.0</td>\n",
       "      <td>Regular customer</td>\n",
       "    </tr>\n",
       "    <tr>\n",
       "      <th>2</th>\n",
       "      <td>26711.0</td>\n",
       "      <td>Deborah</td>\n",
       "      <td>Esquivel</td>\n",
       "      <td>Female</td>\n",
       "      <td>Missouri</td>\n",
       "      <td>48</td>\n",
       "      <td>1/1/2017</td>\n",
       "      <td>3</td>\n",
       "      <td>married</td>\n",
       "      <td>165665</td>\n",
       "      <td>2578584.0</td>\n",
       "      <td>8.0</td>\n",
       "      <td>1.0</td>\n",
       "      <td>15.0</td>\n",
       "      <td>10.0</td>\n",
       "      <td>196.0</td>\n",
       "      <td>2.0</td>\n",
       "      <td>1.0</td>\n",
       "      <td>both</td>\n",
       "      <td>Soda</td>\n",
       "      <td>77.0</td>\n",
       "      <td>7.0</td>\n",
       "      <td>9.0</td>\n",
       "      <td>Mid_range product</td>\n",
       "      <td>Regularly busy</td>\n",
       "      <td>Second busiest day</td>\n",
       "      <td>Average orders</td>\n",
       "      <td>9.0</td>\n",
       "      <td>New customer</td>\n",
       "      <td>11.070000</td>\n",
       "      <td>High spender</td>\n",
       "      <td>19.0</td>\n",
       "      <td>Regular customer</td>\n",
       "    </tr>\n",
       "    <tr>\n",
       "      <th>3</th>\n",
       "      <td>26711.0</td>\n",
       "      <td>Deborah</td>\n",
       "      <td>Esquivel</td>\n",
       "      <td>Female</td>\n",
       "      <td>Missouri</td>\n",
       "      <td>48</td>\n",
       "      <td>1/1/2017</td>\n",
       "      <td>3</td>\n",
       "      <td>married</td>\n",
       "      <td>165665</td>\n",
       "      <td>423547.0</td>\n",
       "      <td>2.0</td>\n",
       "      <td>2.0</td>\n",
       "      <td>9.0</td>\n",
       "      <td>14.0</td>\n",
       "      <td>38928.0</td>\n",
       "      <td>1.0</td>\n",
       "      <td>0.0</td>\n",
       "      <td>both</td>\n",
       "      <td>0% Greek Strained Yogurt</td>\n",
       "      <td>120.0</td>\n",
       "      <td>16.0</td>\n",
       "      <td>12.6</td>\n",
       "      <td>Mid_range product</td>\n",
       "      <td>Regularly busy</td>\n",
       "      <td>Regularly busy</td>\n",
       "      <td>Average orders</td>\n",
       "      <td>9.0</td>\n",
       "      <td>New customer</td>\n",
       "      <td>NaN</td>\n",
       "      <td>NaN</td>\n",
       "      <td>19.0</td>\n",
       "      <td>Regular customer</td>\n",
       "    </tr>\n",
       "    <tr>\n",
       "      <th>4</th>\n",
       "      <td>26711.0</td>\n",
       "      <td>Deborah</td>\n",
       "      <td>Esquivel</td>\n",
       "      <td>Female</td>\n",
       "      <td>Missouri</td>\n",
       "      <td>48</td>\n",
       "      <td>1/1/2017</td>\n",
       "      <td>3</td>\n",
       "      <td>married</td>\n",
       "      <td>165665</td>\n",
       "      <td>2524893.0</td>\n",
       "      <td>3.0</td>\n",
       "      <td>3.0</td>\n",
       "      <td>11.0</td>\n",
       "      <td>30.0</td>\n",
       "      <td>38928.0</td>\n",
       "      <td>1.0</td>\n",
       "      <td>1.0</td>\n",
       "      <td>both</td>\n",
       "      <td>0% Greek Strained Yogurt</td>\n",
       "      <td>120.0</td>\n",
       "      <td>16.0</td>\n",
       "      <td>12.6</td>\n",
       "      <td>Mid_range product</td>\n",
       "      <td>Regularly busy</td>\n",
       "      <td>Second slowest day</td>\n",
       "      <td>Average orders</td>\n",
       "      <td>9.0</td>\n",
       "      <td>New customer</td>\n",
       "      <td>NaN</td>\n",
       "      <td>NaN</td>\n",
       "      <td>19.0</td>\n",
       "      <td>Regular customer</td>\n",
       "    </tr>\n",
       "  </tbody>\n",
       "</table>\n",
       "</div>"
      ],
      "text/plain": [
       "   user_id First Name Last Name  Gender     STATE  Age(yrs) Date_of_join  \\\n",
       "0  26711.0    Deborah  Esquivel  Female  Missouri        48     1/1/2017   \n",
       "1  26711.0    Deborah  Esquivel  Female  Missouri        48     1/1/2017   \n",
       "2  26711.0    Deborah  Esquivel  Female  Missouri        48     1/1/2017   \n",
       "3  26711.0    Deborah  Esquivel  Female  Missouri        48     1/1/2017   \n",
       "4  26711.0    Deborah  Esquivel  Female  Missouri        48     1/1/2017   \n",
       "\n",
       "   No_of_dependants Family_status  Income($)   order_id  order_number  \\\n",
       "0                 3       married     165665  2543867.0           5.0   \n",
       "1                 3       married     165665  1285508.0           7.0   \n",
       "2                 3       married     165665  2578584.0           8.0   \n",
       "3                 3       married     165665   423547.0           2.0   \n",
       "4                 3       married     165665  2524893.0           3.0   \n",
       "\n",
       "   order_day_of_week  order_hour_of_day  days_since_prior_order  product_id  \\\n",
       "0                1.0                9.0                    30.0       196.0   \n",
       "1                5.0               15.0                    11.0       196.0   \n",
       "2                1.0               15.0                    10.0       196.0   \n",
       "3                2.0                9.0                    14.0     38928.0   \n",
       "4                3.0               11.0                    30.0     38928.0   \n",
       "\n",
       "   add_to_cart_order  reordered _merge              product_name  aisle_id  \\\n",
       "0                2.0        0.0   both                      Soda      77.0   \n",
       "1                1.0        1.0   both                      Soda      77.0   \n",
       "2                2.0        1.0   both                      Soda      77.0   \n",
       "3                1.0        0.0   both  0% Greek Strained Yogurt     120.0   \n",
       "4                1.0        1.0   both  0% Greek Strained Yogurt     120.0   \n",
       "\n",
       "   department_id  prices price_category_loc     Busiest day  \\\n",
       "0            7.0     9.0  Mid_range product  Regularly busy   \n",
       "1            7.0     9.0  Mid_range product  Regularly busy   \n",
       "2            7.0     9.0  Mid_range product  Regularly busy   \n",
       "3           16.0    12.6  Mid_range product  Regularly busy   \n",
       "4           16.0    12.6  Mid_range product  Regularly busy   \n",
       "\n",
       "  Busiest days and Slowest days Busiest_period_of_day  max_order  \\\n",
       "0            Second busiest day        Average orders        9.0   \n",
       "1                Regularly busy        Average orders        9.0   \n",
       "2            Second busiest day        Average orders        9.0   \n",
       "3                Regularly busy        Average orders        9.0   \n",
       "4            Second slowest day        Average orders        9.0   \n",
       "\n",
       "  Loyalty_flag_loc  user_average_price spending_flag  order_median  \\\n",
       "0     New customer            7.483644   Low spender          19.0   \n",
       "1     New customer            6.085714   Low spender          19.0   \n",
       "2     New customer           11.070000  High spender          19.0   \n",
       "3     New customer                 NaN           NaN          19.0   \n",
       "4     New customer                 NaN           NaN          19.0   \n",
       "\n",
       "  order_frequency_flag  \n",
       "0     Regular customer  \n",
       "1     Regular customer  \n",
       "2     Regular customer  \n",
       "3     Regular customer  \n",
       "4     Regular customer  "
      ]
     },
     "execution_count": 5,
     "metadata": {},
     "output_type": "execute_result"
    }
   ],
   "source": [
    "Instacart_merged.head()"
   ]
  },
  {
   "cell_type": "markdown",
   "id": "b521333f",
   "metadata": {},
   "source": [
    "# Q.n.2.Consider any security implications that might exist for this new data"
   ]
  },
  {
   "cell_type": "markdown",
   "id": "fde09d8e",
   "metadata": {},
   "source": [
    "I can address some personally identifiable information (PII) in the new dataframe, these are  'First Name', 'Last Name','Gender', 'Age','No_of_dependants', 'Family_status'and 'income'.\n",
    "\n"
   ]
  },
  {
   "cell_type": "markdown",
   "id": "340dd80e",
   "metadata": {},
   "source": [
    "# Q.n.3."
   ]
  },
  {
   "cell_type": "markdown",
   "id": "7b64db84",
   "metadata": {},
   "source": [
    "## Create a 'Region' column"
   ]
  },
  {
   "cell_type": "code",
   "execution_count": 6,
   "id": "0bcfad1c",
   "metadata": {},
   "outputs": [],
   "source": [
    "# Create 'Region'column based on the “State” column with for-loop function\n",
    "result = []\n",
    "\n",
    "for value in Instacart_merged['STATE']:\n",
    "    \n",
    "    if value in ('Maine', 'New Hampshire','Vermont', 'Massachusetts','Rhode Island', 'Connecticut', 'New York', 'Pennsylvania',\n",
    "        'New Jersey'):\n",
    "        result.append('Northeast')\n",
    "        \n",
    "    elif value in  ('Wisconsin', 'Michigan', 'Illinois', 'Indiana','Ohio', 'North Dakota', 'South Dakota', 'Nebraska','Kansas',\n",
    "        'Minnesota', 'Iowa', 'Missouri'):\n",
    "        result.append('Midwest')\n",
    "            \n",
    "    elif value in ('Delaware', 'Maryland', 'District of Columbia', 'Virginia', 'West Virginia', 'North Carolina', 'South Carolina',\n",
    "        'Georgia', 'Florida', 'Kentucky', 'Tennessee', 'Mississippi', \n",
    "        'Alabama', 'Oklahoma', 'Texas', 'Arkansas', 'Louisiana'):\n",
    "        result.append('South')\n",
    "            \n",
    "    elif value in ('Idaho', 'Montana', 'Wyoming', 'Nevada', 'Utah','Colorado', 'Arizona', 'New Mexico', 'Alaska', 'Washington',\n",
    "        'Oregon', 'California', 'Hawaii'):\n",
    "        result.append('West')\n",
    "            \n",
    "    else :\n",
    "        result.append ('Others')"
   ]
  },
  {
   "cell_type": "code",
   "execution_count": 7,
   "id": "7e3e91fa",
   "metadata": {},
   "outputs": [],
   "source": [
    "# create 'region'column  within Instacart_merged dataframe and set it equal to result\n",
    "\n",
    "Instacart_merged['Region']= result"
   ]
  },
  {
   "cell_type": "code",
   "execution_count": 8,
   "id": "afb635da",
   "metadata": {},
   "outputs": [
    {
     "data": {
      "text/plain": [
       "Region\n",
       "South        10871134\n",
       "West          8353486\n",
       "Midwest       7652795\n",
       "Northeast     5765035\n",
       "Name: count, dtype: int64"
      ]
     },
     "execution_count": 8,
     "metadata": {},
     "output_type": "execute_result"
    }
   ],
   "source": [
    "# creat a summary column for the 'Region'(frequency)\n",
    "\n",
    "Instacart_merged['Region'].value_counts(dropna = False)"
   ]
  },
  {
   "cell_type": "code",
   "execution_count": 9,
   "id": "738c9154",
   "metadata": {},
   "outputs": [
    {
     "data": {
      "text/plain": [
       "0            7.0\n",
       "1            7.0\n",
       "2            7.0\n",
       "3           16.0\n",
       "4           16.0\n",
       "            ... \n",
       "32642445    19.0\n",
       "32642446    19.0\n",
       "32642447     7.0\n",
       "32642448    19.0\n",
       "32642449    19.0\n",
       "Name: department_id, Length: 32642450, dtype: float64"
      ]
     },
     "execution_count": 9,
     "metadata": {},
     "output_type": "execute_result"
    }
   ],
   "source": [
    "Instacart_merged['department_id']"
   ]
  },
  {
   "cell_type": "code",
   "execution_count": 10,
   "id": "93a1a19d",
   "metadata": {},
   "outputs": [
    {
     "data": {
      "text/html": [
       "<div>\n",
       "<style scoped>\n",
       "    .dataframe tbody tr th:only-of-type {\n",
       "        vertical-align: middle;\n",
       "    }\n",
       "\n",
       "    .dataframe tbody tr th {\n",
       "        vertical-align: top;\n",
       "    }\n",
       "\n",
       "    .dataframe thead th {\n",
       "        text-align: right;\n",
       "    }\n",
       "</style>\n",
       "<table border=\"1\" class=\"dataframe\">\n",
       "  <thead>\n",
       "    <tr style=\"text-align: right;\">\n",
       "      <th></th>\n",
       "      <th>user_id</th>\n",
       "      <th>First Name</th>\n",
       "      <th>Last Name</th>\n",
       "      <th>Gender</th>\n",
       "      <th>STATE</th>\n",
       "      <th>Age(yrs)</th>\n",
       "      <th>Date_of_join</th>\n",
       "      <th>No_of_dependants</th>\n",
       "      <th>Family_status</th>\n",
       "      <th>Income($)</th>\n",
       "      <th>order_id</th>\n",
       "      <th>order_number</th>\n",
       "      <th>order_day_of_week</th>\n",
       "      <th>order_hour_of_day</th>\n",
       "      <th>days_since_prior_order</th>\n",
       "      <th>product_id</th>\n",
       "      <th>add_to_cart_order</th>\n",
       "      <th>reordered</th>\n",
       "      <th>_merge</th>\n",
       "      <th>product_name</th>\n",
       "      <th>aisle_id</th>\n",
       "      <th>department_id</th>\n",
       "      <th>prices</th>\n",
       "      <th>price_category_loc</th>\n",
       "      <th>Busiest day</th>\n",
       "      <th>Busiest days and Slowest days</th>\n",
       "      <th>Busiest_period_of_day</th>\n",
       "      <th>max_order</th>\n",
       "      <th>Loyalty_flag_loc</th>\n",
       "      <th>user_average_price</th>\n",
       "      <th>spending_flag</th>\n",
       "      <th>order_median</th>\n",
       "      <th>order_frequency_flag</th>\n",
       "      <th>Region</th>\n",
       "    </tr>\n",
       "  </thead>\n",
       "  <tbody>\n",
       "    <tr>\n",
       "      <th>0</th>\n",
       "      <td>26711.0</td>\n",
       "      <td>Deborah</td>\n",
       "      <td>Esquivel</td>\n",
       "      <td>Female</td>\n",
       "      <td>Missouri</td>\n",
       "      <td>48</td>\n",
       "      <td>1/1/2017</td>\n",
       "      <td>3</td>\n",
       "      <td>married</td>\n",
       "      <td>165665</td>\n",
       "      <td>2543867.0</td>\n",
       "      <td>5.0</td>\n",
       "      <td>1.0</td>\n",
       "      <td>9.0</td>\n",
       "      <td>30.0</td>\n",
       "      <td>196.0</td>\n",
       "      <td>2.0</td>\n",
       "      <td>0.0</td>\n",
       "      <td>both</td>\n",
       "      <td>Soda</td>\n",
       "      <td>77.0</td>\n",
       "      <td>7.0</td>\n",
       "      <td>9.0</td>\n",
       "      <td>Mid_range product</td>\n",
       "      <td>Regularly busy</td>\n",
       "      <td>Second busiest day</td>\n",
       "      <td>Average orders</td>\n",
       "      <td>9.0</td>\n",
       "      <td>New customer</td>\n",
       "      <td>7.483644</td>\n",
       "      <td>Low spender</td>\n",
       "      <td>19.0</td>\n",
       "      <td>Regular customer</td>\n",
       "      <td>Midwest</td>\n",
       "    </tr>\n",
       "    <tr>\n",
       "      <th>1</th>\n",
       "      <td>26711.0</td>\n",
       "      <td>Deborah</td>\n",
       "      <td>Esquivel</td>\n",
       "      <td>Female</td>\n",
       "      <td>Missouri</td>\n",
       "      <td>48</td>\n",
       "      <td>1/1/2017</td>\n",
       "      <td>3</td>\n",
       "      <td>married</td>\n",
       "      <td>165665</td>\n",
       "      <td>1285508.0</td>\n",
       "      <td>7.0</td>\n",
       "      <td>5.0</td>\n",
       "      <td>15.0</td>\n",
       "      <td>11.0</td>\n",
       "      <td>196.0</td>\n",
       "      <td>1.0</td>\n",
       "      <td>1.0</td>\n",
       "      <td>both</td>\n",
       "      <td>Soda</td>\n",
       "      <td>77.0</td>\n",
       "      <td>7.0</td>\n",
       "      <td>9.0</td>\n",
       "      <td>Mid_range product</td>\n",
       "      <td>Regularly busy</td>\n",
       "      <td>Regularly busy</td>\n",
       "      <td>Average orders</td>\n",
       "      <td>9.0</td>\n",
       "      <td>New customer</td>\n",
       "      <td>6.085714</td>\n",
       "      <td>Low spender</td>\n",
       "      <td>19.0</td>\n",
       "      <td>Regular customer</td>\n",
       "      <td>Midwest</td>\n",
       "    </tr>\n",
       "    <tr>\n",
       "      <th>2</th>\n",
       "      <td>26711.0</td>\n",
       "      <td>Deborah</td>\n",
       "      <td>Esquivel</td>\n",
       "      <td>Female</td>\n",
       "      <td>Missouri</td>\n",
       "      <td>48</td>\n",
       "      <td>1/1/2017</td>\n",
       "      <td>3</td>\n",
       "      <td>married</td>\n",
       "      <td>165665</td>\n",
       "      <td>2578584.0</td>\n",
       "      <td>8.0</td>\n",
       "      <td>1.0</td>\n",
       "      <td>15.0</td>\n",
       "      <td>10.0</td>\n",
       "      <td>196.0</td>\n",
       "      <td>2.0</td>\n",
       "      <td>1.0</td>\n",
       "      <td>both</td>\n",
       "      <td>Soda</td>\n",
       "      <td>77.0</td>\n",
       "      <td>7.0</td>\n",
       "      <td>9.0</td>\n",
       "      <td>Mid_range product</td>\n",
       "      <td>Regularly busy</td>\n",
       "      <td>Second busiest day</td>\n",
       "      <td>Average orders</td>\n",
       "      <td>9.0</td>\n",
       "      <td>New customer</td>\n",
       "      <td>11.070000</td>\n",
       "      <td>High spender</td>\n",
       "      <td>19.0</td>\n",
       "      <td>Regular customer</td>\n",
       "      <td>Midwest</td>\n",
       "    </tr>\n",
       "    <tr>\n",
       "      <th>3</th>\n",
       "      <td>26711.0</td>\n",
       "      <td>Deborah</td>\n",
       "      <td>Esquivel</td>\n",
       "      <td>Female</td>\n",
       "      <td>Missouri</td>\n",
       "      <td>48</td>\n",
       "      <td>1/1/2017</td>\n",
       "      <td>3</td>\n",
       "      <td>married</td>\n",
       "      <td>165665</td>\n",
       "      <td>423547.0</td>\n",
       "      <td>2.0</td>\n",
       "      <td>2.0</td>\n",
       "      <td>9.0</td>\n",
       "      <td>14.0</td>\n",
       "      <td>38928.0</td>\n",
       "      <td>1.0</td>\n",
       "      <td>0.0</td>\n",
       "      <td>both</td>\n",
       "      <td>0% Greek Strained Yogurt</td>\n",
       "      <td>120.0</td>\n",
       "      <td>16.0</td>\n",
       "      <td>12.6</td>\n",
       "      <td>Mid_range product</td>\n",
       "      <td>Regularly busy</td>\n",
       "      <td>Regularly busy</td>\n",
       "      <td>Average orders</td>\n",
       "      <td>9.0</td>\n",
       "      <td>New customer</td>\n",
       "      <td>NaN</td>\n",
       "      <td>NaN</td>\n",
       "      <td>19.0</td>\n",
       "      <td>Regular customer</td>\n",
       "      <td>Midwest</td>\n",
       "    </tr>\n",
       "    <tr>\n",
       "      <th>4</th>\n",
       "      <td>26711.0</td>\n",
       "      <td>Deborah</td>\n",
       "      <td>Esquivel</td>\n",
       "      <td>Female</td>\n",
       "      <td>Missouri</td>\n",
       "      <td>48</td>\n",
       "      <td>1/1/2017</td>\n",
       "      <td>3</td>\n",
       "      <td>married</td>\n",
       "      <td>165665</td>\n",
       "      <td>2524893.0</td>\n",
       "      <td>3.0</td>\n",
       "      <td>3.0</td>\n",
       "      <td>11.0</td>\n",
       "      <td>30.0</td>\n",
       "      <td>38928.0</td>\n",
       "      <td>1.0</td>\n",
       "      <td>1.0</td>\n",
       "      <td>both</td>\n",
       "      <td>0% Greek Strained Yogurt</td>\n",
       "      <td>120.0</td>\n",
       "      <td>16.0</td>\n",
       "      <td>12.6</td>\n",
       "      <td>Mid_range product</td>\n",
       "      <td>Regularly busy</td>\n",
       "      <td>Second slowest day</td>\n",
       "      <td>Average orders</td>\n",
       "      <td>9.0</td>\n",
       "      <td>New customer</td>\n",
       "      <td>NaN</td>\n",
       "      <td>NaN</td>\n",
       "      <td>19.0</td>\n",
       "      <td>Regular customer</td>\n",
       "      <td>Midwest</td>\n",
       "    </tr>\n",
       "  </tbody>\n",
       "</table>\n",
       "</div>"
      ],
      "text/plain": [
       "   user_id First Name Last Name  Gender     STATE  Age(yrs) Date_of_join  \\\n",
       "0  26711.0    Deborah  Esquivel  Female  Missouri        48     1/1/2017   \n",
       "1  26711.0    Deborah  Esquivel  Female  Missouri        48     1/1/2017   \n",
       "2  26711.0    Deborah  Esquivel  Female  Missouri        48     1/1/2017   \n",
       "3  26711.0    Deborah  Esquivel  Female  Missouri        48     1/1/2017   \n",
       "4  26711.0    Deborah  Esquivel  Female  Missouri        48     1/1/2017   \n",
       "\n",
       "   No_of_dependants Family_status  Income($)   order_id  order_number  \\\n",
       "0                 3       married     165665  2543867.0           5.0   \n",
       "1                 3       married     165665  1285508.0           7.0   \n",
       "2                 3       married     165665  2578584.0           8.0   \n",
       "3                 3       married     165665   423547.0           2.0   \n",
       "4                 3       married     165665  2524893.0           3.0   \n",
       "\n",
       "   order_day_of_week  order_hour_of_day  days_since_prior_order  product_id  \\\n",
       "0                1.0                9.0                    30.0       196.0   \n",
       "1                5.0               15.0                    11.0       196.0   \n",
       "2                1.0               15.0                    10.0       196.0   \n",
       "3                2.0                9.0                    14.0     38928.0   \n",
       "4                3.0               11.0                    30.0     38928.0   \n",
       "\n",
       "   add_to_cart_order  reordered _merge              product_name  aisle_id  \\\n",
       "0                2.0        0.0   both                      Soda      77.0   \n",
       "1                1.0        1.0   both                      Soda      77.0   \n",
       "2                2.0        1.0   both                      Soda      77.0   \n",
       "3                1.0        0.0   both  0% Greek Strained Yogurt     120.0   \n",
       "4                1.0        1.0   both  0% Greek Strained Yogurt     120.0   \n",
       "\n",
       "   department_id  prices price_category_loc     Busiest day  \\\n",
       "0            7.0     9.0  Mid_range product  Regularly busy   \n",
       "1            7.0     9.0  Mid_range product  Regularly busy   \n",
       "2            7.0     9.0  Mid_range product  Regularly busy   \n",
       "3           16.0    12.6  Mid_range product  Regularly busy   \n",
       "4           16.0    12.6  Mid_range product  Regularly busy   \n",
       "\n",
       "  Busiest days and Slowest days Busiest_period_of_day  max_order  \\\n",
       "0            Second busiest day        Average orders        9.0   \n",
       "1                Regularly busy        Average orders        9.0   \n",
       "2            Second busiest day        Average orders        9.0   \n",
       "3                Regularly busy        Average orders        9.0   \n",
       "4            Second slowest day        Average orders        9.0   \n",
       "\n",
       "  Loyalty_flag_loc  user_average_price spending_flag  order_median  \\\n",
       "0     New customer            7.483644   Low spender          19.0   \n",
       "1     New customer            6.085714   Low spender          19.0   \n",
       "2     New customer           11.070000  High spender          19.0   \n",
       "3     New customer                 NaN           NaN          19.0   \n",
       "4     New customer                 NaN           NaN          19.0   \n",
       "\n",
       "  order_frequency_flag   Region  \n",
       "0     Regular customer  Midwest  \n",
       "1     Regular customer  Midwest  \n",
       "2     Regular customer  Midwest  \n",
       "3     Regular customer  Midwest  \n",
       "4     Regular customer  Midwest  "
      ]
     },
     "execution_count": 10,
     "metadata": {},
     "output_type": "execute_result"
    }
   ],
   "source": [
    "Instacart_merged.head()"
   ]
  },
  {
   "cell_type": "markdown",
   "id": "89386cde",
   "metadata": {},
   "source": [
    "## Determine whether there’s a difference in spending habits between the different U.S. regions"
   ]
  },
  {
   "cell_type": "code",
   "execution_count": 88,
   "id": "d64c7a39",
   "metadata": {},
   "outputs": [],
   "source": [
    "# crossing the variable \n",
    "\n",
    "cross_tab = pd.crosstab(Instacart_merged['Region'], Instacart_merged['spending_flag'], dropna = False )"
   ]
  },
  {
   "cell_type": "code",
   "execution_count": 89,
   "id": "6dcbf92f",
   "metadata": {},
   "outputs": [],
   "source": [
    "#  Convert the cross-tabulation to a DataFrame\n",
    "\n",
    "df_result = pd.DataFrame(cross_tab)\n"
   ]
  },
  {
   "cell_type": "code",
   "execution_count": 90,
   "id": "bd5d6938",
   "metadata": {},
   "outputs": [
    {
     "data": {
      "text/plain": [
       "Index(['High spender', 'Low spender'], dtype='object', name='spending_flag')"
      ]
     },
     "execution_count": 90,
     "metadata": {},
     "output_type": "execute_result"
    }
   ],
   "source": [
    "df_result.columns"
   ]
  },
  {
   "cell_type": "code",
   "execution_count": 91,
   "id": "23b1e47b",
   "metadata": {},
   "outputs": [
    {
     "data": {
      "text/html": [
       "<div>\n",
       "<style scoped>\n",
       "    .dataframe tbody tr th:only-of-type {\n",
       "        vertical-align: middle;\n",
       "    }\n",
       "\n",
       "    .dataframe tbody tr th {\n",
       "        vertical-align: top;\n",
       "    }\n",
       "\n",
       "    .dataframe thead th {\n",
       "        text-align: right;\n",
       "    }\n",
       "</style>\n",
       "<table border=\"1\" class=\"dataframe\">\n",
       "  <thead>\n",
       "    <tr style=\"text-align: right;\">\n",
       "      <th>spending_flag</th>\n",
       "      <th>High spender</th>\n",
       "      <th>Low spender</th>\n",
       "    </tr>\n",
       "    <tr>\n",
       "      <th>Region</th>\n",
       "      <th></th>\n",
       "      <th></th>\n",
       "    </tr>\n",
       "  </thead>\n",
       "  <tbody>\n",
       "    <tr>\n",
       "      <th>Midwest</th>\n",
       "      <td>1273</td>\n",
       "      <td>47408</td>\n",
       "    </tr>\n",
       "    <tr>\n",
       "      <th>Northeast</th>\n",
       "      <td>917</td>\n",
       "      <td>35136</td>\n",
       "    </tr>\n",
       "    <tr>\n",
       "      <th>South</th>\n",
       "      <td>1793</td>\n",
       "      <td>66226</td>\n",
       "    </tr>\n",
       "    <tr>\n",
       "      <th>West</th>\n",
       "      <td>1392</td>\n",
       "      <td>52064</td>\n",
       "    </tr>\n",
       "  </tbody>\n",
       "</table>\n",
       "</div>"
      ],
      "text/plain": [
       "spending_flag  High spender  Low spender\n",
       "Region                                  \n",
       "Midwest                1273        47408\n",
       "Northeast               917        35136\n",
       "South                  1793        66226\n",
       "West                   1392        52064"
      ]
     },
     "execution_count": 91,
     "metadata": {},
     "output_type": "execute_result"
    }
   ],
   "source": [
    "# craete a summary \n",
    "df_result"
   ]
  },
  {
   "cell_type": "code",
   "execution_count": 120,
   "id": "33fecaf0",
   "metadata": {},
   "outputs": [
    {
     "data": {
      "image/png": "[encoded data removed]",
      "text/plain": [
       "<Figure size 1000x600 with 1 Axes>"
      ]
     },
     "metadata": {},
     "output_type": "display_data"
    }
   ],
   "source": [
    "# a stacked bar for spender across the region\n",
    "\n",
    "stacked_bar = df_result.plot(kind='bar', stacked=False, figsize=(10, 6))\n",
    "\n",
    "# Rotate x-axis labels to be horizontal\n",
    "plt.xticks(rotation=0)\n",
    "# set the title, x lebel and y lebel\n",
    "plt.title('Stacked Barplot of High Spender and Low Spender by Region')\n",
    "plt.xlabel('Region')\n",
    "plt.ylabel('Spending')\n",
    "plt.legend(title='spending_flag', loc='upper right')\n",
    "plt.show()"
   ]
  },
  {
   "cell_type": "code",
   "execution_count": 121,
   "id": "0a746593",
   "metadata": {},
   "outputs": [],
   "source": [
    "# save the visualization\n",
    "\n",
    "stacked_bar.figure.savefig(os.path.join('04 Analysis','Visualization', 'stacked_bar_spending_region.png'))"
   ]
  },
  {
   "cell_type": "markdown",
   "id": "395d920a",
   "metadata": {},
   "source": [
    "# Q.n.4."
   ]
  },
  {
   "cell_type": "code",
   "execution_count": 20,
   "id": "9813cad4",
   "metadata": {},
   "outputs": [
    {
     "name": "stderr",
     "output_type": "stream",
     "text": [
      "/var/folders/c6/l683wjhx5lsb9xd7t_fkht780000gn/T/ipykernel_2788/2476833251.py:4: SettingWithCopyWarning: \n",
      "A value is trying to be set on a copy of a slice from a DataFrame.\n",
      "Try using .loc[row_indexer,col_indexer] = value instead\n",
      "\n",
      "See the caveats in the documentation: https://pandas.pydata.org/pandas-docs/stable/user_guide/indexing.html#returning-a-view-versus-a-copy\n",
      "  Instacart_merged_unique.loc[Instacart_merged_unique['max_order']< 5, 'exclusion_flag'] = 'low_activity_customer'\n"
     ]
    }
   ],
   "source": [
    "# create  a flag  for low-activity customer\n",
    "#Instacart_merged_unique = Instacart_merged.drop_duplicates(subset=['max_order','user_id']) \n",
    "\n",
    "Instacart_merged_unique.loc[Instacart_merged_unique['max_order']< 5, 'exclusion_flag'] = 'low_activity_customer'"
   ]
  },
  {
   "cell_type": "code",
   "execution_count": 21,
   "id": "5a1dc0fa",
   "metadata": {},
   "outputs": [],
   "source": [
    "# flag for active_customer\n",
    "\n",
    "Instacart_merged_unique.loc[Instacart_merged_unique['max_order']>= 5, 'exclusion_flag'] = 'activ_customer'"
   ]
  },
  {
   "cell_type": "code",
   "execution_count": 22,
   "id": "2214d9f2",
   "metadata": {},
   "outputs": [
    {
     "data": {
      "text/plain": [
       "exclusion_flag\n",
       "activ_customer           182223\n",
       "low_activity_customer     23986\n",
       "Name: count, dtype: int64"
      ]
     },
     "execution_count": 22,
     "metadata": {},
     "output_type": "execute_result"
    }
   ],
   "source": [
    "# create a summary of 'exclusion_flag'\n",
    "\n",
    "Instacart_merged_unique['exclusion_flag'].value_counts(dropna= False)"
   ]
  },
  {
   "cell_type": "code",
   "execution_count": 23,
   "id": "d75fc199",
   "metadata": {},
   "outputs": [
    {
     "data": {
      "text/plain": [
       "206209"
      ]
     },
     "execution_count": 23,
     "metadata": {},
     "output_type": "execute_result"
    }
   ],
   "source": [
    "len(Instacart_merged.user_id.unique())"
   ]
  },
  {
   "cell_type": "code",
   "execution_count": 24,
   "id": "c86be5b9",
   "metadata": {},
   "outputs": [
    {
     "data": {
      "text/plain": [
       "(32642450, 34)"
      ]
     },
     "execution_count": 24,
     "metadata": {},
     "output_type": "execute_result"
    }
   ],
   "source": [
    "Instacart_merged.shape"
   ]
  },
  {
   "cell_type": "code",
   "execution_count": 25,
   "id": "3d21edec",
   "metadata": {},
   "outputs": [],
   "source": [
    "# exclude the low_activity_customer\n",
    "\n",
    "filtered_Instacart_merged_unique = Instacart_merged_unique[Instacart_merged_unique['max_order'] >= 5]"
   ]
  },
  {
   "cell_type": "code",
   "execution_count": 26,
   "id": "a2ff27f9",
   "metadata": {},
   "outputs": [
    {
     "data": {
      "text/plain": [
       "exclusion_flag\n",
       "activ_customer    182223\n",
       "Name: count, dtype: int64"
      ]
     },
     "execution_count": 26,
     "metadata": {},
     "output_type": "execute_result"
    }
   ],
   "source": [
    "filtered_Instacart_merged_unique['exclusion_flag'].value_counts(dropna = False)"
   ]
  },
  {
   "cell_type": "code",
   "execution_count": 27,
   "id": "5f485721",
   "metadata": {},
   "outputs": [],
   "source": [
    "# export the sample-exclude low_activity_customer\n",
    "\n",
    "filtered_Instacart_merged_unique.to_pickle(os.path.join('04 Analysis', 'Test files', 'filtered_Instacart_merged_unique.pkl'))"
   ]
  },
  {
   "cell_type": "markdown",
   "id": "0ff0fbad",
   "metadata": {},
   "source": [
    "# Q.n.5."
   ]
  },
  {
   "cell_type": "code",
   "execution_count": 74,
   "id": "7ea88a9a",
   "metadata": {},
   "outputs": [],
   "source": [
    "# Import the department_id dataframe\n",
    "\n",
    "department = pd.read_csv(os.path.join(PATH, 'Original Data', 'departments.csv'))"
   ]
  },
  {
   "cell_type": "code",
   "execution_count": 108,
   "id": "335ae523",
   "metadata": {
    "scrolled": true
   },
   "outputs": [
    {
     "data": {
      "text/html": [
       "<div>\n",
       "<style scoped>\n",
       "    .dataframe tbody tr th:only-of-type {\n",
       "        vertical-align: middle;\n",
       "    }\n",
       "\n",
       "    .dataframe tbody tr th {\n",
       "        vertical-align: top;\n",
       "    }\n",
       "\n",
       "    .dataframe thead th {\n",
       "        text-align: right;\n",
       "    }\n",
       "</style>\n",
       "<table border=\"1\" class=\"dataframe\">\n",
       "  <thead>\n",
       "    <tr style=\"text-align: right;\">\n",
       "      <th></th>\n",
       "      <th>0</th>\n",
       "    </tr>\n",
       "  </thead>\n",
       "  <tbody>\n",
       "    <tr>\n",
       "      <th>department_id</th>\n",
       "      <td>department</td>\n",
       "    </tr>\n",
       "    <tr>\n",
       "      <th>1</th>\n",
       "      <td>frozen</td>\n",
       "    </tr>\n",
       "    <tr>\n",
       "      <th>2</th>\n",
       "      <td>other</td>\n",
       "    </tr>\n",
       "    <tr>\n",
       "      <th>3</th>\n",
       "      <td>bakery</td>\n",
       "    </tr>\n",
       "    <tr>\n",
       "      <th>4</th>\n",
       "      <td>produce</td>\n",
       "    </tr>\n",
       "    <tr>\n",
       "      <th>5</th>\n",
       "      <td>alcohol</td>\n",
       "    </tr>\n",
       "    <tr>\n",
       "      <th>6</th>\n",
       "      <td>international</td>\n",
       "    </tr>\n",
       "    <tr>\n",
       "      <th>7</th>\n",
       "      <td>beverages</td>\n",
       "    </tr>\n",
       "    <tr>\n",
       "      <th>8</th>\n",
       "      <td>pets</td>\n",
       "    </tr>\n",
       "    <tr>\n",
       "      <th>9</th>\n",
       "      <td>dry goods pasta</td>\n",
       "    </tr>\n",
       "    <tr>\n",
       "      <th>10</th>\n",
       "      <td>bulk</td>\n",
       "    </tr>\n",
       "    <tr>\n",
       "      <th>11</th>\n",
       "      <td>personal care</td>\n",
       "    </tr>\n",
       "    <tr>\n",
       "      <th>12</th>\n",
       "      <td>meat seafood</td>\n",
       "    </tr>\n",
       "    <tr>\n",
       "      <th>13</th>\n",
       "      <td>pantry</td>\n",
       "    </tr>\n",
       "    <tr>\n",
       "      <th>14</th>\n",
       "      <td>breakfast</td>\n",
       "    </tr>\n",
       "    <tr>\n",
       "      <th>15</th>\n",
       "      <td>canned goods</td>\n",
       "    </tr>\n",
       "    <tr>\n",
       "      <th>16</th>\n",
       "      <td>dairy eggs</td>\n",
       "    </tr>\n",
       "    <tr>\n",
       "      <th>17</th>\n",
       "      <td>household</td>\n",
       "    </tr>\n",
       "    <tr>\n",
       "      <th>18</th>\n",
       "      <td>babies</td>\n",
       "    </tr>\n",
       "    <tr>\n",
       "      <th>19</th>\n",
       "      <td>snacks</td>\n",
       "    </tr>\n",
       "    <tr>\n",
       "      <th>20</th>\n",
       "      <td>deli</td>\n",
       "    </tr>\n",
       "    <tr>\n",
       "      <th>21</th>\n",
       "      <td>missing</td>\n",
       "    </tr>\n",
       "  </tbody>\n",
       "</table>\n",
       "</div>"
      ],
      "text/plain": [
       "                             0\n",
       "department_id       department\n",
       "1                       frozen\n",
       "2                        other\n",
       "3                       bakery\n",
       "4                      produce\n",
       "5                      alcohol\n",
       "6                international\n",
       "7                    beverages\n",
       "8                         pets\n",
       "9              dry goods pasta\n",
       "10                        bulk\n",
       "11               personal care\n",
       "12                meat seafood\n",
       "13                      pantry\n",
       "14                   breakfast\n",
       "15                canned goods\n",
       "16                  dairy eggs\n",
       "17                   household\n",
       "18                      babies\n",
       "19                      snacks\n",
       "20                        deli\n",
       "21                     missing"
      ]
     },
     "execution_count": 108,
     "metadata": {},
     "output_type": "execute_result"
    }
   ],
   "source": [
    "# Transposing data\n",
    "\n",
    "department.T"
   ]
  },
  {
   "cell_type": "markdown",
   "id": "006c9101",
   "metadata": {},
   "source": [
    "## set the customer profile"
   ]
  },
  {
   "cell_type": "code",
   "execution_count": 30,
   "id": "2225a5af",
   "metadata": {},
   "outputs": [],
   "source": [
    "# create  a flag  for Young Professionals\n",
    "\n",
    "Instacart_merged.loc[\n",
    "    (Instacart_merged['Age(yrs)'] >= 22) & (Instacart_merged['Age(yrs)'] <= 30)&\n",
    "    (Instacart_merged['Income($)'] >= 40000) & (Instacart_merged['Income($)'] <= 80000) &\n",
    "    (Instacart_merged['department_id'].isin([1, 3, 5,7, 9, 11,15, 16])) & \n",
    "    (Instacart_merged['No_of_dependants'] == 0),\n",
    "    'customer_profiling'\n",
    "] = 'young professionals'"
   ]
  },
  {
   "cell_type": "code",
   "execution_count": 31,
   "id": "1df22979",
   "metadata": {},
   "outputs": [],
   "source": [
    "# create  a flag  for single adult\n",
    "\n",
    "Instacart_merged.loc[\n",
    "    (Instacart_merged['Age(yrs)'] >= 25) & (Instacart_merged['Age(yrs)'] <= 40)&\n",
    "    (Instacart_merged['Income($)'] >= 40000) & (Instacart_merged['Income($)'] <= 70000) &\n",
    "    (Instacart_merged['department_id'].isin([1, 3, 7, 8, 9, 11, 15, 16])) & \n",
    "    (Instacart_merged['No_of_dependants'] == 0),\n",
    "    'customer_profiling'\n",
    "] = 'single adult'"
   ]
  },
  {
   "cell_type": "code",
   "execution_count": 32,
   "id": "ad448246",
   "metadata": {},
   "outputs": [],
   "source": [
    "# create  a flag  for young parents\n",
    "\n",
    "Instacart_merged.loc[\n",
    "     (Instacart_merged['Age(yrs)'] >= 25) & (Instacart_merged['Age(yrs)'] <= 35)&\n",
    "    (Instacart_merged['Income($)'] >= 40000) & (Instacart_merged['Income($)'] <= 70000) &\n",
    "    (Instacart_merged['department_id'].isin([1,2,3,7, 9, 10, 11,17,18])) & \n",
    "    (Instacart_merged['No_of_dependants'] >= 1) & (Instacart_merged['No_of_dependants'] <= 2),\n",
    "    'customer_profiling'\n",
    "] = 'young parents'"
   ]
  },
  {
   "cell_type": "code",
   "execution_count": 33,
   "id": "9a3e8b6d",
   "metadata": {},
   "outputs": [],
   "source": [
    "# create a summary of 'customer_profiling'\n",
    "\n",
    "customer_profiling = Instacart_merged['customer_profiling'].value_counts(dropna= False)"
   ]
  },
  {
   "cell_type": "markdown",
   "id": "c49ea847",
   "metadata": {},
   "source": [
    "# Q.n.6. Create an appropriate visualization to show the distribution of profiles"
   ]
  },
  {
   "cell_type": "code",
   "execution_count": 122,
   "id": "7dc47e6c",
   "metadata": {},
   "outputs": [
    {
     "data": {
      "image/png": "[encoded data removed]",
      "text/plain": [
       "<Figure size 600x400 with 1 Axes>"
      ]
     },
     "metadata": {},
     "output_type": "display_data"
    }
   ],
   "source": [
    "# A bar chart for distribution of customer profile\n",
    "\n",
    "bar_chart = plt.figure(figsize=(6, 4))\n",
    "sns.barplot(x=customer_profiling.index, y=customer_profiling.values)\n",
    "plt.title('Bar Plot for distribution of profiles')\n",
    "plt.xlabel('customer_profiling')\n",
    "plt.ylabel('Counts')\n",
    "plt.show()"
   ]
  },
  {
   "cell_type": "code",
   "execution_count": 124,
   "id": "8a91e905",
   "metadata": {},
   "outputs": [],
   "source": [
    "# save the visualization\n",
    "\n",
    "bar_chart.figure.savefig(os.path.join('04 Analysis','Visualization', 'bar_chart_customer_profiling.png'))"
   ]
  },
  {
   "cell_type": "code",
   "execution_count": 133,
   "id": "c51256f0",
   "metadata": {},
   "outputs": [
    {
     "name": "stderr",
     "output_type": "stream",
     "text": [
      "/var/folders/c6/l683wjhx5lsb9xd7t_fkht780000gn/T/ipykernel_2788/2947497659.py:4: FutureWarning: \n",
      "\n",
      "The `ci` parameter is deprecated. Use `errorbar=None` for the same effect.\n",
      "\n",
      "  sns.barplot(x='customer_profiling', y='user_average_price', data = Instacart_merged, ci= None)\n"
     ]
    },
    {
     "data": {
      "image/png": "[encoded data removed]",
      "text/plain": [
       "<Figure size 600x400 with 1 Axes>"
      ]
     },
     "metadata": {},
     "output_type": "display_data"
    }
   ],
   "source": [
    "# create a bar chart for spending habits of customers\n",
    "\n",
    "bar_chart = plt.figure(figsize=(6, 4))\n",
    "sns.barplot(x='customer_profiling', y='user_average_price', data = Instacart_merged, ci= None)\n",
    "plt.title('Average price by customer profiles')\n",
    "plt.xlabel('customer_profiling')\n",
    "plt.ylabel('user_average_price')\n",
    "plt.show()"
   ]
  },
  {
   "cell_type": "code",
   "execution_count": 135,
   "id": "7780deaf",
   "metadata": {},
   "outputs": [],
   "source": [
    "# export the viz.\n",
    "bar_chart.figure.savefig(os.path.join('04 Analysis','Visualization', 'bar_chart_customer_profiling_prices.png'))"
   ]
  },
  {
   "cell_type": "markdown",
   "id": "f4a4dd24",
   "metadata": {},
   "source": [
    "# Q.n.7. Aggregate the max, mean, and min variables on a customer-profile level for usage frequency and expenditure."
   ]
  },
  {
   "cell_type": "code",
   "execution_count": 35,
   "id": "bb70deab",
   "metadata": {},
   "outputs": [
    {
     "data": {
      "text/plain": [
       "Index(['user_id', 'First Name', 'Last Name', 'Gender', 'STATE', 'Age(yrs)',\n",
       "       'Date_of_join', 'No_of_dependants', 'Family_status', 'Income($)',\n",
       "       'order_id', 'order_number', 'order_day_of_week', 'order_hour_of_day',\n",
       "       'days_since_prior_order', 'product_id', 'add_to_cart_order',\n",
       "       'reordered', '_merge', 'product_name', 'aisle_id', 'department_id',\n",
       "       'prices', 'price_category_loc', 'Busiest day',\n",
       "       'Busiest days and Slowest days', 'Busiest_period_of_day', 'max_order',\n",
       "       'Loyalty_flag_loc', 'user_average_price', 'spending_flag',\n",
       "       'order_median', 'order_frequency_flag', 'Region', 'customer_profiling'],\n",
       "      dtype='object')"
      ]
     },
     "execution_count": 35,
     "metadata": {},
     "output_type": "execute_result"
    }
   ],
   "source": [
    "Instacart_merged.columns"
   ]
  },
  {
   "cell_type": "code",
   "execution_count": 51,
   "id": "f58bd3d3",
   "metadata": {},
   "outputs": [],
   "source": [
    "# Group by customer_profiling and agg 'order_id'by count and user_average_price by sum \n",
    "\n",
    "customer_profile_counts = Instacart_merged.groupby('customer_profiling')['order_id'].count().reset_index(name='order_count')\n",
    "customer_profile_sums = Instacart_merged.groupby('customer_profiling')['user_average_price'].sum().reset_index(name='total_expenditure')\n"
   ]
  },
  {
   "cell_type": "code",
   "execution_count": 52,
   "id": "9bd25e00",
   "metadata": {},
   "outputs": [],
   "source": [
    "# Merge the two DataFrames on 'customer_profiling'\n",
    "\n",
    "merged_profiles = pd.merge(customer_profile_counts, customer_profile_sums, on='customer_profiling')\n"
   ]
  },
  {
   "cell_type": "code",
   "execution_count": 66,
   "id": "3c80b62f",
   "metadata": {},
   "outputs": [],
   "source": [
    "# Aggregate mean, max, and min on the merged DataFrame\n",
    "\n",
    "customer_profile_aggregated = merged_profiles.agg({\n",
    "    'order_count': ['mean', 'max', 'min'],\n",
    "    'total_expenditure': ['mean', 'max', 'min'],\n",
    "})"
   ]
  },
  {
   "cell_type": "code",
   "execution_count": 67,
   "id": "2546d8a6",
   "metadata": {},
   "outputs": [
    {
     "name": "stdout",
     "output_type": "stream",
     "text": [
      "        order_count  total_expenditure\n",
      "mean  296025.666667       11277.298143\n",
      "max   398375.000000       17123.468851\n",
      "min   159099.000000        4045.129205\n"
     ]
    }
   ],
   "source": [
    "print(customer_profile_aggregated)"
   ]
  },
  {
   "cell_type": "markdown",
   "id": "8dd97ebc",
   "metadata": {},
   "source": [
    "# Q.n.8. Compare your customer profiles with regions and departments"
   ]
  },
  {
   "cell_type": "code",
   "execution_count": 82,
   "id": "32acc2b4",
   "metadata": {},
   "outputs": [],
   "source": [
    "customer_profile_region_department = Instacart_merged.groupby(['customer_profiling', 'Region', 'department_id']).size().reset_index(name='customer_count')"
   ]
  },
  {
   "cell_type": "code",
   "execution_count": 95,
   "id": "f0722e3d",
   "metadata": {},
   "outputs": [
    {
     "name": "stderr",
     "output_type": "stream",
     "text": [
      "/var/folders/c6/l683wjhx5lsb9xd7t_fkht780000gn/T/ipykernel_2788/789330.py:2: FutureWarning: \n",
      "\n",
      "The `ci` parameter is deprecated. Use `errorbar=None` for the same effect.\n",
      "\n",
      "  sns.barplot(x='Region', y='customer_count', hue='department_id', data=customer_profile_region_department, ci = None)\n"
     ]
    },
    {
     "data": {
      "image/png": "[encoded data removed]",
      "text/plain": [
       "<Figure size 1200x800 with 1 Axes>"
      ]
     },
     "metadata": {},
     "output_type": "display_data"
    }
   ],
   "source": [
    "Stacked_bar = plt.figure(figsize=(12, 8))\n",
    "sns.barplot(x='Region', y='customer_count', hue='department_id', data=customer_profile_region_department, ci = None)\n",
    "plt.title('Customer Profiles by Region and Department')\n",
    "plt.xlabel('Region')\n",
    "plt.ylabel('Customer Count')\n",
    "plt.legend(title='Department ID', loc='upper right')\n",
    "plt.show()"
   ]
  },
  {
   "cell_type": "code",
   "execution_count": 79,
   "id": "eb9e4c08",
   "metadata": {},
   "outputs": [],
   "source": [
    "data_dict = department.to_dict ('index')"
   ]
  },
  {
   "cell_type": "code",
   "execution_count": 102,
   "id": "afdff357",
   "metadata": {},
   "outputs": [
    {
     "data": {
      "text/plain": [
       "{0: {'department_id': 'department',\n",
       "  '1': 'frozen',\n",
       "  '2': 'other',\n",
       "  '3': 'bakery',\n",
       "  '4': 'produce',\n",
       "  '5': 'alcohol',\n",
       "  '6': 'international',\n",
       "  '7': 'beverages',\n",
       "  '8': 'pets',\n",
       "  '9': 'dry goods pasta',\n",
       "  '10': 'bulk',\n",
       "  '11': 'personal care',\n",
       "  '12': 'meat seafood',\n",
       "  '13': 'pantry',\n",
       "  '14': 'breakfast',\n",
       "  '15': 'canned goods',\n",
       "  '16': 'dairy eggs',\n",
       "  '17': 'household',\n",
       "  '18': 'babies',\n",
       "  '19': 'snacks',\n",
       "  '20': 'deli',\n",
       "  '21': 'missing'}}"
      ]
     },
     "execution_count": 102,
     "metadata": {},
     "output_type": "execute_result"
    }
   ],
   "source": [
    "data_dict"
   ]
  },
  {
   "cell_type": "code",
   "execution_count": 112,
   "id": "2dbb2725",
   "metadata": {},
   "outputs": [
    {
     "data": {
      "image/png": "[encoded data removed]",
      "text/plain": [
       "<Figure size 640x480 with 1 Axes>"
      ]
     },
     "metadata": {},
     "output_type": "display_data"
    }
   ],
   "source": [
    "# create a bar plot to check the most popular department\n",
    "\n",
    "bar_plot = Instacart_merged['department_id'].value_counts().plot.bar()\n"
   ]
  },
  {
   "cell_type": "code",
   "execution_count": 113,
   "id": "68118bd9",
   "metadata": {},
   "outputs": [],
   "source": [
    "# save the visualization\n",
    "\n",
    "bar_plot.figure.savefig(os.path.join('04 Analysis','Visualization', 'bar_plot_popular_dept.png'))"
   ]
  },
  {
   "cell_type": "markdown",
   "id": "376abf8c",
   "metadata": {},
   "source": [
    "# Q.n.9. Produce suitable charts to illustrate your results and export them in your project folder.\n"
   ]
  },
  {
   "cell_type": "code",
   "execution_count": 99,
   "id": "7b065fa8",
   "metadata": {},
   "outputs": [],
   "source": [
    "# export the viz, Q.n.8.\n",
    "\n",
    "Stacked_bar.figure.savefig(os.path.join('04 Analysis', 'Visualization', 'stacked_compare_customer_profile.png'))"
   ]
  },
  {
   "cell_type": "code",
   "execution_count": null,
   "id": "88857658",
   "metadata": {},
   "outputs": [],
   "source": []
  }
 ],
 "metadata": {
  "kernelspec": {
   "display_name": "Python 3 (ipykernel)",
   "language": "python",
   "name": "python3"
  },
  "language_info": {
   "codemirror_mode": {
    "name": "ipython",
    "version": 3
   },
   "file_extension": ".py",
   "mimetype": "text/x-python",
   "name": "python",
   "nbconvert_exporter": "python",
   "pygments_lexer": "ipython3",
   "version": "3.11.5"
  }
 },
 "nbformat": 4,
 "nbformat_minor": 5
}
